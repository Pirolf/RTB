{
 "cells": [
  {
   "cell_type": "code",
   "execution_count": 1,
   "metadata": {},
   "outputs": [],
   "source": [
    "import pandas as pd\n",
    "import matplotlib.pyplot as plt\n",
    "import numpy as np\n",
    "\n",
    "%matplotlib inline"
   ]
  },
  {
   "cell_type": "code",
   "execution_count": 2,
   "metadata": {},
   "outputs": [],
   "source": [
    "input_path = '/Users/ytu/data/biddings.csv'"
   ]
  },
  {
   "cell_type": "code",
   "execution_count": 3,
   "metadata": {},
   "outputs": [
    {
     "name": "stdout",
     "output_type": "stream",
     "text": [
      "(1000000, 89)\n"
     ]
    }
   ],
   "source": [
    "data = pd.read_csv(input_path)\n",
    "print(data.shape)"
   ]
  },
  {
   "cell_type": "markdown",
   "metadata": {},
   "source": [
    "### Explore input data"
   ]
  },
  {
   "cell_type": "markdown",
   "metadata": {},
   "source": [
    "Only ~0.2% of rows have `convert = true`"
   ]
  },
  {
   "cell_type": "code",
   "execution_count": 8,
   "metadata": {},
   "outputs": [
    {
     "data": {
      "text/plain": [
       "0.1908"
      ]
     },
     "execution_count": 8,
     "metadata": {},
     "output_type": "execute_result"
    }
   ],
   "source": [
    "pd.value_counts(data['convert'])[1]/data.shape[0] * 100"
   ]
  },
  {
   "cell_type": "markdown",
   "metadata": {},
   "source": [
    "#### Sample the same number of rows where `convert = false` and  `convert = true`"
   ]
  },
  {
   "cell_type": "code",
   "execution_count": 4,
   "metadata": {},
   "outputs": [
    {
     "name": "stdout",
     "output_type": "stream",
     "text": [
      "features: (3816, 88), lables = (3816,)\n"
     ]
    }
   ],
   "source": [
    "def down_sampling(minority_ratio=1, majority_to_minority=1):\n",
    "    convert1_sample = data.loc[data['convert'] == 1] * minority_ratio\n",
    "    convert0_sample = data.loc[data['convert'] == 0].sample(majority_to_minority * len(convert1_sample))\n",
    "\n",
    "    # shuffle\n",
    "    sample = pd.concat([convert0_sample, convert1_sample]).sample(frac=1)\n",
    "    \n",
    "    features = sample.drop('convert', axis=1)\n",
    "    labels = sample.convert\n",
    "\n",
    "    print(\"features: {}, lables = {}\".format(features.shape, labels.shape))\n",
    "        \n",
    "    return (np.array(features), np.array(labels))\n",
    "\n",
    "\n",
    "(features, labels) = down_sampling()"
   ]
  },
  {
   "cell_type": "markdown",
   "metadata": {},
   "source": [
    "#### Logistic Regression"
   ]
  },
  {
   "cell_type": "code",
   "execution_count": 5,
   "metadata": {},
   "outputs": [],
   "source": [
    "from sklearn.linear_model import LogisticRegression"
   ]
  },
  {
   "cell_type": "markdown",
   "metadata": {},
   "source": [
    "Cross validation with mean accuracy as test metric"
   ]
  },
  {
   "cell_type": "code",
   "execution_count": 8,
   "metadata": {},
   "outputs": [],
   "source": [
    "from sklearn.model_selection import KFold\n",
    "from sklearn.metrics import auc, roc_curve\n",
    "\n",
    "# Returns mean accuracies and aucs\n",
    "def train_kfold(n_splits):\n",
    "    kf = KFold(n_splits=n_splits, shuffle=True)\n",
    "    \n",
    "    accuracies = []\n",
    "    fprs = []\n",
    "    tprs = []\n",
    "    aucs = []\n",
    "    \n",
    "    for train_index, test_index in kf.split(features):\n",
    "    #     print(\"TRAIN:\", train_index, \"TEST:\", test_index)\n",
    "        feature_train, feature_test = features[train_index], features[test_index]\n",
    "        label_train, label_test = labels[train_index], labels[test_index]\n",
    "\n",
    "        regression = LogisticRegression(penalty='l2')\n",
    "        model = regression.fit(feature_train, label_train)\n",
    "        predicted_scores = model.predict_proba(feature_test)[:,1]\n",
    "        \n",
    "        accuracies.append(model.score(feature_test, label_test))\n",
    "        \n",
    "        fpr, tpr, thresholds = roc_curve(label_test, predicted_scores)\n",
    "        fprs.append(fpr)\n",
    "        tprs.append(tpr)\n",
    "        aucs.append(auc(fpr, tpr))\n",
    "    \n",
    "    return accuracies, fprs, tprs, aucs"
   ]
  },
  {
   "cell_type": "markdown",
   "metadata": {},
   "source": [
    "We use ROC_AUC (Receiver operating characteristic area under curve) as the main metric rather than accuracy because the label distribution is highly unbalanced. But since we are using under-sampled data here, we should look at accuracy as well."
   ]
  },
  {
   "cell_type": "markdown",
   "metadata": {},
   "source": [
    "First try different number of folds, and see if there is any difference in AUC"
   ]
  },
  {
   "cell_type": "code",
   "execution_count": 9,
   "metadata": {},
   "outputs": [
    {
     "name": "stdout",
     "output_type": "stream",
     "text": [
      "splits: 2, accuracy: 0.6339098532494759, auc: 0.6784454161723426\n",
      "splits: 3, accuracy: 0.6263102725366877, auc: 0.671435976593448\n",
      "splits: 4, accuracy: 0.6357442348008386, auc: 0.682208254255441\n",
      "splits: 5, accuracy: 0.6360117475108589, auc: 0.6821499131856299\n"
     ]
    }
   ],
   "source": [
    "for i, n_splits in enumerate(range(2, 6)):\n",
    "    accuracies, fprs, tprs, aucs = train_kfold(n_splits)\n",
    "    print(\"splits: {}, accuracy: {}, auc: {}\".format(n_splits, np.mean(accuracies), np.mean(aucs)))\n"
   ]
  },
  {
   "cell_type": "markdown",
   "metadata": {},
   "source": [
    "There is very little difference with number of folds. This makes sense because we are under-sampling,\n",
    "and taining data is small even if splits = 2. Go ahead with 4 splits and plot the ROC curve, where AUC is around 68.2%"
   ]
  },
  {
   "cell_type": "code",
   "execution_count": 12,
   "metadata": {},
   "outputs": [
    {
     "data": {
      "image/png": "[encoded data removed]",
      "text/plain": [
       "<Figure size 432x288 with 1 Axes>"
      ]
     },
     "metadata": {},
     "output_type": "display_data"
    }
   ],
   "source": [
    "accuracies, fprs, tprs, aucs = train_kfold(5)\n",
    "for i in range(5):\n",
    "    plt.plot(fprs[i], tprs[i], linestyle='--')\n",
    "\n",
    "plt.xlabel('False Positive Rate')\n",
    "plt.ylabel('True Positive Rate')\n",
    "plt.show()\n",
    "    "
   ]
  },
  {
   "cell_type": "markdown",
   "metadata": {},
   "source": [
    "However, we don't have to down sample at a 1:1 ratio of labels (convert = 0 vs. convert = 1).\n",
    "Try increasing the ratio to increase the sample size expotentially.\n",
    "Accuracy improves up to 99% as the 0/1 ratio approaches the true distribution, whic AUC is stagnent.\n",
    "This is due to most of the accuracy gains in fewer false positives\n"
   ]
  },
  {
   "cell_type": "code",
   "execution_count": 16,
   "metadata": {},
   "outputs": [
    {
     "name": "stdout",
     "output_type": "stream",
     "text": [
      "features: (9540, 88), lables = (9540,)\n",
      "0:1 ratio: 4, accuracy: 0.802, auc: 0.685\n",
      "features: (17172, 88), lables = (17172,)\n",
      "0:1 ratio: 8, accuracy: 0.889, auc: 0.693\n",
      "features: (32436, 88), lables = (32436,)\n",
      "0:1 ratio: 16, accuracy: 0.941, auc: 0.688\n",
      "features: (62964, 88), lables = (62964,)\n",
      "0:1 ratio: 32, accuracy: 0.970, auc: 0.688\n",
      "features: (124020, 88), lables = (124020,)\n",
      "0:1 ratio: 64, accuracy: 0.985, auc: 0.683\n",
      "features: (246132, 88), lables = (246132,)\n",
      "0:1 ratio: 128, accuracy: 0.992, auc: 0.692\n"
     ]
    }
   ],
   "source": [
    "for majority_to_minority in [4, 8, 16, 32, 64, 128]:\n",
    "    (features, labels) = down_sampling(majority_to_minority=majority_to_minority)\n",
    "    accuracies, fprs, tprs, aucs = train_kfold(2)\n",
    "    print(\"0:1 ratio: %d, accuracy: %0.3f, auc: %0.3f\" % (\n",
    "        majority_to_minority, np.mean(accuracies), np.mean(aucs)))"
   ]
  },
  {
   "cell_type": "code",
   "execution_count": 17,
   "metadata": {},
   "outputs": [],
   "source": [
    "# Without KFold\n",
    "from sklearn.model_selection import train_test_split\n",
    "def train(features, labels, test_size=0.33, penalty='l2', class_weight=None, C=1.0, fit_intercept=True, intercept_scaling=1.0):\n",
    "    feature_train, feature_test, label_train, label_test = train_test_split(features, labels, test_size=test_size)\n",
    "    \n",
    "    regression = LogisticRegression(penalty=penalty, class_weight=class_weight, C=C,\n",
    "                                   fit_intercept=fit_intercept, intercept_scaling=intercept_scaling)\n",
    "    model = regression.fit(feature_train, label_train)\n",
    "    predicted_scores = model.predict_proba(feature_test)[:,1]\n",
    "    predicted = model.predict(feature_test)\n",
    "    accuracy = model.score(feature_test, label_test)\n",
    "    fpr, tpr, thresholds = roc_curve(label_test, predicted_scores)\n",
    "    return accuracy, fpr, tpr, label_test, predicted\n"
   ]
  },
  {
   "cell_type": "markdown",
   "metadata": {},
   "source": [
    "Try different sampling ratios, we see AUC increases as ratio increase, but the gain is in false/postive nagatives\n",
    "with sacrifice in true postives. This is due to the lack of postive samples"
   ]
  },
  {
   "cell_type": "code",
   "execution_count": 19,
   "metadata": {},
   "outputs": [
    {
     "name": "stdout",
     "output_type": "stream",
     "text": [
      "features: (9540, 88), lables = (9540,)\n",
      "majority_to_minority: 4, accuracy: 0.800, fpr: 0.383, tpr: 0.573, auc: 0.685\n",
      "[[2461   37]\n",
      " [ 593   58]]\n",
      "features: (32436, 88), lables = (32436,)\n",
      "majority_to_minority: 16, accuracy: 0.941, fpr: 0.433, tpr: 0.627, auc: 0.698\n",
      "[[10068     1]\n",
      " [  635     0]]\n",
      "features: (124020, 88), lables = (124020,)\n",
      "majority_to_minority: 64, accuracy: 0.985, fpr: 0.554, tpr: 0.749, auc: 0.708\n",
      "[[40326     0]\n",
      " [  601     0]]\n"
     ]
    },
    {
     "data": {
      "image/png": "[encoded data removed]",
      "text/plain": [
       "<Figure size 432x288 with 1 Axes>"
      ]
     },
     "metadata": {},
     "output_type": "display_data"
    }
   ],
   "source": [
    "# 4, 16, 64\n",
    "from sklearn.metrics import confusion_matrix\n",
    "\n",
    "for majority_to_minority in [4, 16, 64]:\n",
    "    (features, labels) = down_sampling(majority_to_minority=majority_to_minority)\n",
    "    accuracy, fpr, tpr, label_test, predicted = train(features, labels)\n",
    "    area_under_curve = auc(fpr, tpr)\n",
    "    print(\"majority_to_minority: %d, accuracy: %0.3f, fpr: %0.3f, tpr: %0.3f, auc: %0.3f\" % (\n",
    "        majority_to_minority, accuracy, np.mean(fpr), np.mean(tpr), area_under_curve))\n",
    "    \n",
    "    # true negatives is C_{0,0}, false negatives is C_{1,0},\n",
    "    # true positives is C_{1,1} and false positives is C_{0,1}.\n",
    "    print(confusion_matrix(label_test, predicted))\n",
    "    \n",
    "    plt.plot(fpr, tpr, label=\"majority_to_minority: %d\" % majority_to_minority, linestyle='--')\n",
    "    plt.legend(loc='lower right')\n",
    "\n",
    "    \n",
    "plt.xlabel('False Positive Rate')\n",
    "plt.ylabel('True Positive Rate')\n",
    "plt.show()\n"
   ]
  },
  {
   "cell_type": "markdown",
   "metadata": {},
   "source": [
    "Try L1 penalty\n",
    "No meaningful improvement on AUC"
   ]
  },
  {
   "cell_type": "code",
   "execution_count": 21,
   "metadata": {},
   "outputs": [
    {
     "name": "stdout",
     "output_type": "stream",
     "text": [
      "features: (124020, 88), lables = (124020,)\n",
      "accuracy: 0.985, fpr: 0.552, tpr: 0.731, auc: 0.689\n",
      "[[40293     0]\n",
      " [  634     0]]\n"
     ]
    }
   ],
   "source": [
    "(features, labels) = down_sampling(majority_to_minority=64)\n",
    "accuracy, fpr, tpr, label_test, predicted = train(features, labels, penalty='l1')\n",
    "area_under_curve = auc(fpr, tpr)\n",
    "print(\"accuracy: %0.3f, fpr: %0.3f, tpr: %0.3f, auc: %0.3f\" % (\n",
    "    accuracy, np.mean(fpr), np.mean(tpr), area_under_curve))\n",
    "\n",
    "# true negatives is C_{0,0}, false negatives is C_{1,0},\n",
    "# true positives is C_{1,1} and false positives is C_{0,1}.\n",
    "print(confusion_matrix(label_test, predicted))\n"
   ]
  },
  {
   "cell_type": "markdown",
   "metadata": {},
   "source": [
    "Try balanced class weights"
   ]
  },
  {
   "cell_type": "code",
   "execution_count": 23,
   "metadata": {},
   "outputs": [
    {
     "name": "stdout",
     "output_type": "stream",
     "text": [
      "features: (124020, 88), lables = (124020,)\n",
      "accuracy: 0.662, fpr: 0.555, tpr: 0.736, auc: 0.685\n",
      "[[26710 13610]\n",
      " [  233   374]]\n"
     ]
    }
   ],
   "source": [
    "(features, labels) = down_sampling(majority_to_minority=64)\n",
    "accuracy, fpr, tpr, label_test, predicted = train(features, labels, penalty='l2', class_weight='balanced')\n",
    "area_under_curve = auc(fpr, tpr)\n",
    "print(\"accuracy: %0.3f, fpr: %0.3f, tpr: %0.3f, auc: %0.3f\" % (\n",
    "    accuracy, np.mean(fpr), np.mean(tpr), area_under_curve))\n",
    "\n",
    "# true negatives is C_{0,0}, false negatives is C_{1,0},\n",
    "# true positives is C_{1,1} and false positives is C_{0,1}.\n",
    "print(confusion_matrix(label_test, predicted))"
   ]
  },
  {
   "cell_type": "markdown",
   "metadata": {},
   "source": [
    "#### SGD with Over Sampling"
   ]
  },
  {
   "cell_type": "code",
   "execution_count": 25,
   "metadata": {},
   "outputs": [],
   "source": [
    "from sklearn.linear_model import SGDClassifier\n",
    "\n",
    "def over_sampling(minority_ratio=1, majority_to_minority=1):\n",
    "    convert1_sample = data.loc[data['convert'] == 1] * minority_ratio\n",
    "    convert0_sample = data.loc[data['convert'] == 0].sample(majority_to_minority * len(convert1_sample))\n",
    "    \n",
    "    sample_array = [convert0_sample]\n",
    "    for i in range(120):\n",
    "        sample_array.append(convert1_sample)\n",
    "        \n",
    "    # shuffle\n",
    "    sample = pd.concat(sample_array).sample(frac=1)\n",
    "    \n",
    "    features = sample.drop('convert', axis=1)\n",
    "    labels = sample.convert\n",
    "        \n",
    "    return (np.array(features), np.array(labels))\n",
    "\n",
    "def sgd_kfold(sgd, features, labels, n_splits):\n",
    "    kf = KFold(n_splits=n_splits, shuffle=True)\n",
    "    \n",
    "    accuracies = []\n",
    "    fprs = []\n",
    "    tprs = []\n",
    "    areas_under_curves = []\n",
    "    \n",
    "    for train_index, test_index in kf.split(features):\n",
    "    #     print(\"TRAIN:\", train_index, \"TEST:\", test_index)\n",
    "        feature_train, feature_test = features[train_index], features[test_index]\n",
    "        label_train, label_test = labels[train_index], labels[test_index]\n",
    "\n",
    "        model = sgd.fit(feature_train, label_train)\n",
    "        predicted_scores = model.predict_proba(feature_test)[:,1]\n",
    "        predicted = model.predict(feature_test)\n",
    "        accuracy = model.score(feature_test, label_test)\n",
    "        fpr, tpr, thresholds = roc_curve(label_test, predicted_scores)\n",
    "\n",
    "        accuracies.append(accuracy)\n",
    "        fprs.append(fpr)\n",
    "        tprs.append(tpr)\n",
    "        areas_under_curves.append(auc(fpr, tpr))\n",
    "    \n",
    "    return accuracies, fprs, tprs, areas_under_curves\n"
   ]
  },
  {
   "cell_type": "code",
   "execution_count": 38,
   "metadata": {},
   "outputs": [
    {
     "name": "stdout",
     "output_type": "stream",
     "text": [
      "accuracy: 0.653, auc: 0.708\n"
     ]
    }
   ],
   "source": [
    "sgd = SGDClassifier(loss='log', penalty='l2',\n",
    "                    learning_rate='invscaling', eta0=0.01, max_iter=32)\n",
    "\n",
    "(features, labels) = over_sampling(majority_to_minority=128)\n",
    "accuracies, fprs, tprs, areas_under_curves = sgd_kfold(sgd, features, labels, n_splits=3)\n",
    "\n",
    "print(\"accuracy: %0.3f, auc: %0.3f\" % (\n",
    "    np.mean(accuracies), np.mean(areas_under_curves)))"
   ]
  },
  {
   "cell_type": "code",
   "execution_count": 37,
   "metadata": {},
   "outputs": [
    {
     "name": "stdout",
     "output_type": "stream",
     "text": [
      "accuracy: 0.654, auc: 0.708\n"
     ]
    }
   ],
   "source": [
    "sgd = SGDClassifier(loss='log', penalty='l2', alpha=0.004,\n",
    "                    learning_rate='optimal', max_iter=32)\n",
    "\n",
    "(features, labels) = over_sampling(majority_to_minority=128)\n",
    "accuracies, fprs, tprs, areas_under_curves = sgd_kfold(sgd, features, labels, n_splits=3)\n",
    "\n",
    "print(\"accuracy: %0.3f, auc: %0.3f\" % (\n",
    "    np.mean(accuracies), np.mean(areas_under_curves)))"
   ]
  },
  {
   "cell_type": "markdown",
   "metadata": {},
   "source": [
    "#### Generate synthetic samples"
   ]
  },
  {
   "cell_type": "code",
   "execution_count": 9,
   "metadata": {},
   "outputs": [],
   "source": [
    "from imblearn.over_sampling import SMOTE, RandomOverSampler\n",
    "from imblearn.under_sampling import ClusterCentroids,NearMiss, RandomUnderSampler\n",
    "from imblearn.combine import SMOTEENN,SMOTETomek\n",
    "from imblearn.ensemble import BalanceCascade\n",
    "\n",
    "from sklearn.model_selection import GridSearchCV\n",
    "from sklearn.linear_model import SGDClassifier, LogisticRegression\n",
    "\n",
    "def benchmark(sampling_type,X,y):\n",
    "    sgd = SGDClassifier(loss='log', penalty='l2',\n",
    "                    learning_rate='invscaling', eta0=0.01, max_iter=32)\n",
    "    param_grid = {'eta0':[0.0001, 0.001, 0.01, 0.1], 'penalty':['l1', 'l2'], 'power_t': [0.2, 0.5, 0.8]}\n",
    "    gs = GridSearchCV(estimator=sgd, param_grid=param_grid, scoring='roc_auc', cv=3, verbose=2)\n",
    "    gs = gs.fit(X.values, y.values.ravel())\n",
    "    return sampling_type, gs.best_score_, gs.best_params_\n",
    "\n",
    "def transform(transformer,X,y):\n",
    "    print(\"Transforming {}\".format(transformer.__class__.__name__))\n",
    "    X_resampled,y_resampled = transformer.fit_sample(X.values,y.values.ravel())\n",
    "    return transformer.__class__.__name__,pd.DataFrame(X_resampled), pd.DataFrame(y_resampled)"
   ]
  },
  {
   "cell_type": "code",
   "execution_count": 5,
   "metadata": {},
   "outputs": [
    {
     "name": "stdout",
     "output_type": "stream",
     "text": [
      "Transforming SMOTE\n",
      "Transforming RandomOverSampler\n",
      "Transforming NearMiss\n",
      "Transforming RandomUnderSampler\n"
     ]
    }
   ],
   "source": [
    "sample = data.sample(frac=1)\n",
    "features = sample.drop('convert', axis=1)\n",
    "labels = sample.convert\n",
    "\n",
    "datasets = []\n",
    "datasets.append((\"base\", features, labels))\n",
    "datasets.append(transform(SMOTE(n_jobs=-1), features, labels))\n",
    "datasets.append(transform(RandomOverSampler(), features, labels))\n",
    "datasets.append(transform(NearMiss(n_jobs=-1), features, labels))\n",
    "datasets.append(transform(RandomUnderSampler(), features, labels))\n",
    "# datasets.append(transform(SMOTEENN(), features, labels))\n",
    "# datasets.append(transform(SMOTETomek(), features, labels))"
   ]
  },
  {
   "cell_type": "code",
   "execution_count": 10,
   "metadata": {},
   "outputs": [
    {
     "name": "stdout",
     "output_type": "stream",
     "text": [
      "______________________________________________________________\n",
      "base\n",
      "Fitting 3 folds for each of 24 candidates, totalling 72 fits\n",
      "[CV] eta0=0.0001, penalty=l1, power_t=0.2 ............................\n",
      "[CV] ............. eta0=0.0001, penalty=l1, power_t=0.2, total=  24.9s\n",
      "[CV] eta0=0.0001, penalty=l1, power_t=0.2 ............................\n"
     ]
    },
    {
     "name": "stderr",
     "output_type": "stream",
     "text": [
      "[Parallel(n_jobs=1)]: Done   1 out of   1 | elapsed:   25.4s remaining:    0.0s\n"
     ]
    },
    {
     "name": "stdout",
     "output_type": "stream",
     "text": [
      "[CV] ............. eta0=0.0001, penalty=l1, power_t=0.2, total=  25.2s\n",
      "[CV] eta0=0.0001, penalty=l1, power_t=0.2 ............................\n",
      "[CV] ............. eta0=0.0001, penalty=l1, power_t=0.2, total=  24.3s\n",
      "[CV] eta0=0.0001, penalty=l1, power_t=0.5 ............................\n",
      "[CV] ............. eta0=0.0001, penalty=l1, power_t=0.5, total=  21.5s\n",
      "[CV] eta0=0.0001, penalty=l1, power_t=0.5 ............................\n",
      "[CV] ............. eta0=0.0001, penalty=l1, power_t=0.5, total=  21.7s\n",
      "[CV] eta0=0.0001, penalty=l1, power_t=0.5 ............................\n",
      "[CV] ............. eta0=0.0001, penalty=l1, power_t=0.5, total=  20.0s\n",
      "[CV] eta0=0.0001, penalty=l1, power_t=0.8 ............................\n",
      "[CV] ............. eta0=0.0001, penalty=l1, power_t=0.8, total=  19.3s\n",
      "[CV] eta0=0.0001, penalty=l1, power_t=0.8 ............................\n",
      "[CV] ............. eta0=0.0001, penalty=l1, power_t=0.8, total=  21.0s\n",
      "[CV] eta0=0.0001, penalty=l1, power_t=0.8 ............................\n",
      "[CV] ............. eta0=0.0001, penalty=l1, power_t=0.8, total=  18.5s\n",
      "[CV] eta0=0.0001, penalty=l2, power_t=0.2 ............................\n",
      "[CV] ............. eta0=0.0001, penalty=l2, power_t=0.2, total=  14.4s\n",
      "[CV] eta0=0.0001, penalty=l2, power_t=0.2 ............................\n",
      "[CV] ............. eta0=0.0001, penalty=l2, power_t=0.2, total=  13.2s\n",
      "[CV] eta0=0.0001, penalty=l2, power_t=0.2 ............................\n",
      "[CV] ............. eta0=0.0001, penalty=l2, power_t=0.2, total=  13.6s\n",
      "[CV] eta0=0.0001, penalty=l2, power_t=0.5 ............................\n",
      "[CV] ............. eta0=0.0001, penalty=l2, power_t=0.5, total=  13.6s\n",
      "[CV] eta0=0.0001, penalty=l2, power_t=0.5 ............................\n",
      "[CV] ............. eta0=0.0001, penalty=l2, power_t=0.5, total=  13.7s\n",
      "[CV] eta0=0.0001, penalty=l2, power_t=0.5 ............................\n",
      "[CV] ............. eta0=0.0001, penalty=l2, power_t=0.5, total=  13.5s\n",
      "[CV] eta0=0.0001, penalty=l2, power_t=0.8 ............................\n",
      "[CV] ............. eta0=0.0001, penalty=l2, power_t=0.8, total=  13.1s\n",
      "[CV] eta0=0.0001, penalty=l2, power_t=0.8 ............................\n",
      "[CV] ............. eta0=0.0001, penalty=l2, power_t=0.8, total=  13.5s\n",
      "[CV] eta0=0.0001, penalty=l2, power_t=0.8 ............................\n",
      "[CV] ............. eta0=0.0001, penalty=l2, power_t=0.8, total=  13.3s\n",
      "[CV] eta0=0.001, penalty=l1, power_t=0.2 .............................\n",
      "[CV] .............. eta0=0.001, penalty=l1, power_t=0.2, total=  25.4s\n",
      "[CV] eta0=0.001, penalty=l1, power_t=0.2 .............................\n",
      "[CV] .............. eta0=0.001, penalty=l1, power_t=0.2, total=  25.9s\n",
      "[CV] eta0=0.001, penalty=l1, power_t=0.2 .............................\n",
      "[CV] .............. eta0=0.001, penalty=l1, power_t=0.2, total=  25.3s\n",
      "[CV] eta0=0.001, penalty=l1, power_t=0.5 .............................\n",
      "[CV] .............. eta0=0.001, penalty=l1, power_t=0.5, total=  23.2s\n",
      "[CV] eta0=0.001, penalty=l1, power_t=0.5 .............................\n",
      "[CV] .............. eta0=0.001, penalty=l1, power_t=0.5, total=  22.8s\n",
      "[CV] eta0=0.001, penalty=l1, power_t=0.5 .............................\n",
      "[CV] .............. eta0=0.001, penalty=l1, power_t=0.5, total=  22.6s\n",
      "[CV] eta0=0.001, penalty=l1, power_t=0.8 .............................\n",
      "[CV] .............. eta0=0.001, penalty=l1, power_t=0.8, total=  18.5s\n",
      "[CV] eta0=0.001, penalty=l1, power_t=0.8 .............................\n",
      "[CV] .............. eta0=0.001, penalty=l1, power_t=0.8, total=  19.4s\n",
      "[CV] eta0=0.001, penalty=l1, power_t=0.8 .............................\n",
      "[CV] .............. eta0=0.001, penalty=l1, power_t=0.8, total=  19.0s\n",
      "[CV] eta0=0.001, penalty=l2, power_t=0.2 .............................\n",
      "[CV] .............. eta0=0.001, penalty=l2, power_t=0.2, total=  14.7s\n",
      "[CV] eta0=0.001, penalty=l2, power_t=0.2 .............................\n",
      "[CV] .............. eta0=0.001, penalty=l2, power_t=0.2, total=  13.9s\n",
      "[CV] eta0=0.001, penalty=l2, power_t=0.2 .............................\n",
      "[CV] .............. eta0=0.001, penalty=l2, power_t=0.2, total=  13.4s\n",
      "[CV] eta0=0.001, penalty=l2, power_t=0.5 .............................\n",
      "[CV] .............. eta0=0.001, penalty=l2, power_t=0.5, total=  13.5s\n",
      "[CV] eta0=0.001, penalty=l2, power_t=0.5 .............................\n",
      "[CV] .............. eta0=0.001, penalty=l2, power_t=0.5, total=  13.4s\n",
      "[CV] eta0=0.001, penalty=l2, power_t=0.5 .............................\n",
      "[CV] .............. eta0=0.001, penalty=l2, power_t=0.5, total=  13.2s\n",
      "[CV] eta0=0.001, penalty=l2, power_t=0.8 .............................\n",
      "[CV] .............. eta0=0.001, penalty=l2, power_t=0.8, total=  13.0s\n",
      "[CV] eta0=0.001, penalty=l2, power_t=0.8 .............................\n",
      "[CV] .............. eta0=0.001, penalty=l2, power_t=0.8, total=  13.4s\n",
      "[CV] eta0=0.001, penalty=l2, power_t=0.8 .............................\n",
      "[CV] .............. eta0=0.001, penalty=l2, power_t=0.8, total=  13.6s\n",
      "[CV] eta0=0.01, penalty=l1, power_t=0.2 ..............................\n",
      "[CV] ............... eta0=0.01, penalty=l1, power_t=0.2, total=  26.0s\n",
      "[CV] eta0=0.01, penalty=l1, power_t=0.2 ..............................\n",
      "[CV] ............... eta0=0.01, penalty=l1, power_t=0.2, total=  25.5s\n",
      "[CV] eta0=0.01, penalty=l1, power_t=0.2 ..............................\n",
      "[CV] ............... eta0=0.01, penalty=l1, power_t=0.2, total=  26.2s\n",
      "[CV] eta0=0.01, penalty=l1, power_t=0.5 ..............................\n",
      "[CV] ............... eta0=0.01, penalty=l1, power_t=0.5, total=  25.8s\n",
      "[CV] eta0=0.01, penalty=l1, power_t=0.5 ..............................\n",
      "[CV] ............... eta0=0.01, penalty=l1, power_t=0.5, total=  24.7s\n",
      "[CV] eta0=0.01, penalty=l1, power_t=0.5 ..............................\n",
      "[CV] ............... eta0=0.01, penalty=l1, power_t=0.5, total=  24.7s\n",
      "[CV] eta0=0.01, penalty=l1, power_t=0.8 ..............................\n",
      "[CV] ............... eta0=0.01, penalty=l1, power_t=0.8, total=  18.7s\n",
      "[CV] eta0=0.01, penalty=l1, power_t=0.8 ..............................\n",
      "[CV] ............... eta0=0.01, penalty=l1, power_t=0.8, total=  20.2s\n",
      "[CV] eta0=0.01, penalty=l1, power_t=0.8 ..............................\n",
      "[CV] ............... eta0=0.01, penalty=l1, power_t=0.8, total=  19.2s\n",
      "[CV] eta0=0.01, penalty=l2, power_t=0.2 ..............................\n",
      "[CV] ............... eta0=0.01, penalty=l2, power_t=0.2, total=  13.6s\n",
      "[CV] eta0=0.01, penalty=l2, power_t=0.2 ..............................\n",
      "[CV] ............... eta0=0.01, penalty=l2, power_t=0.2, total=  13.3s\n",
      "[CV] eta0=0.01, penalty=l2, power_t=0.2 ..............................\n",
      "[CV] ............... eta0=0.01, penalty=l2, power_t=0.2, total=  13.9s\n",
      "[CV] eta0=0.01, penalty=l2, power_t=0.5 ..............................\n",
      "[CV] ............... eta0=0.01, penalty=l2, power_t=0.5, total=  13.3s\n",
      "[CV] eta0=0.01, penalty=l2, power_t=0.5 ..............................\n",
      "[CV] ............... eta0=0.01, penalty=l2, power_t=0.5, total=  13.1s\n",
      "[CV] eta0=0.01, penalty=l2, power_t=0.5 ..............................\n",
      "[CV] ............... eta0=0.01, penalty=l2, power_t=0.5, total=  13.8s\n",
      "[CV] eta0=0.01, penalty=l2, power_t=0.8 ..............................\n",
      "[CV] ............... eta0=0.01, penalty=l2, power_t=0.8, total=  13.5s\n",
      "[CV] eta0=0.01, penalty=l2, power_t=0.8 ..............................\n",
      "[CV] ............... eta0=0.01, penalty=l2, power_t=0.8, total=  14.2s\n",
      "[CV] eta0=0.01, penalty=l2, power_t=0.8 ..............................\n",
      "[CV] ............... eta0=0.01, penalty=l2, power_t=0.8, total=  14.4s\n",
      "[CV] eta0=0.1, penalty=l1, power_t=0.2 ...............................\n",
      "[CV] ................ eta0=0.1, penalty=l1, power_t=0.2, total=  26.0s\n",
      "[CV] eta0=0.1, penalty=l1, power_t=0.2 ...............................\n",
      "[CV] ................ eta0=0.1, penalty=l1, power_t=0.2, total=  25.2s\n",
      "[CV] eta0=0.1, penalty=l1, power_t=0.2 ...............................\n",
      "[CV] ................ eta0=0.1, penalty=l1, power_t=0.2, total=  25.5s\n",
      "[CV] eta0=0.1, penalty=l1, power_t=0.5 ...............................\n",
      "[CV] ................ eta0=0.1, penalty=l1, power_t=0.5, total=  25.0s\n",
      "[CV] eta0=0.1, penalty=l1, power_t=0.5 ...............................\n",
      "[CV] ................ eta0=0.1, penalty=l1, power_t=0.5, total=  25.0s\n",
      "[CV] eta0=0.1, penalty=l1, power_t=0.5 ...............................\n"
     ]
    },
    {
     "name": "stdout",
     "output_type": "stream",
     "text": [
      "[CV] ................ eta0=0.1, penalty=l1, power_t=0.5, total=  24.9s\n",
      "[CV] eta0=0.1, penalty=l1, power_t=0.8 ...............................\n",
      "[CV] ................ eta0=0.1, penalty=l1, power_t=0.8, total=  18.9s\n",
      "[CV] eta0=0.1, penalty=l1, power_t=0.8 ...............................\n",
      "[CV] ................ eta0=0.1, penalty=l1, power_t=0.8, total=  19.9s\n",
      "[CV] eta0=0.1, penalty=l1, power_t=0.8 ...............................\n",
      "[CV] ................ eta0=0.1, penalty=l1, power_t=0.8, total=  20.8s\n",
      "[CV] eta0=0.1, penalty=l2, power_t=0.2 ...............................\n",
      "[CV] ................ eta0=0.1, penalty=l2, power_t=0.2, total=  14.6s\n",
      "[CV] eta0=0.1, penalty=l2, power_t=0.2 ...............................\n",
      "[CV] ................ eta0=0.1, penalty=l2, power_t=0.2, total=  14.7s\n",
      "[CV] eta0=0.1, penalty=l2, power_t=0.2 ...............................\n",
      "[CV] ................ eta0=0.1, penalty=l2, power_t=0.2, total=  13.7s\n",
      "[CV] eta0=0.1, penalty=l2, power_t=0.5 ...............................\n",
      "[CV] ................ eta0=0.1, penalty=l2, power_t=0.5, total=  15.3s\n",
      "[CV] eta0=0.1, penalty=l2, power_t=0.5 ...............................\n",
      "[CV] ................ eta0=0.1, penalty=l2, power_t=0.5, total=  13.3s\n",
      "[CV] eta0=0.1, penalty=l2, power_t=0.5 ...............................\n",
      "[CV] ................ eta0=0.1, penalty=l2, power_t=0.5, total=  13.6s\n",
      "[CV] eta0=0.1, penalty=l2, power_t=0.8 ...............................\n",
      "[CV] ................ eta0=0.1, penalty=l2, power_t=0.8, total=  13.5s\n",
      "[CV] eta0=0.1, penalty=l2, power_t=0.8 ...............................\n",
      "[CV] ................ eta0=0.1, penalty=l2, power_t=0.8, total=  13.2s\n",
      "[CV] eta0=0.1, penalty=l2, power_t=0.8 ...............................\n",
      "[CV] ................ eta0=0.1, penalty=l2, power_t=0.8, total=  13.6s\n"
     ]
    },
    {
     "name": "stderr",
     "output_type": "stream",
     "text": [
      "[Parallel(n_jobs=1)]: Done  72 out of  72 | elapsed: 22.2min finished\n"
     ]
    },
    {
     "name": "stdout",
     "output_type": "stream",
     "text": [
      "______________________________________________________________\n",
      "______________________________________________________________\n",
      "SMOTE\n",
      "Fitting 3 folds for each of 24 candidates, totalling 72 fits\n",
      "[CV] eta0=0.0001, penalty=l1, power_t=0.2 ............................\n",
      "[CV] ............. eta0=0.0001, penalty=l1, power_t=0.2, total=  43.7s\n",
      "[CV] eta0=0.0001, penalty=l1, power_t=0.2 ............................\n"
     ]
    },
    {
     "name": "stderr",
     "output_type": "stream",
     "text": [
      "[Parallel(n_jobs=1)]: Done   1 out of   1 | elapsed:   44.4s remaining:    0.0s\n"
     ]
    },
    {
     "name": "stdout",
     "output_type": "stream",
     "text": [
      "[CV] ............. eta0=0.0001, penalty=l1, power_t=0.2, total=  36.6s\n",
      "[CV] eta0=0.0001, penalty=l1, power_t=0.2 ............................\n",
      "[CV] ............. eta0=0.0001, penalty=l1, power_t=0.2, total=  36.8s\n",
      "[CV] eta0=0.0001, penalty=l1, power_t=0.5 ............................\n",
      "[CV] ............. eta0=0.0001, penalty=l1, power_t=0.5, total=  35.2s\n",
      "[CV] eta0=0.0001, penalty=l1, power_t=0.5 ............................\n",
      "[CV] ............. eta0=0.0001, penalty=l1, power_t=0.5, total=  35.3s\n",
      "[CV] eta0=0.0001, penalty=l1, power_t=0.5 ............................\n",
      "[CV] ............. eta0=0.0001, penalty=l1, power_t=0.5, total=  34.3s\n",
      "[CV] eta0=0.0001, penalty=l1, power_t=0.8 ............................\n",
      "[CV] ............. eta0=0.0001, penalty=l1, power_t=0.8, total=  36.1s\n",
      "[CV] eta0=0.0001, penalty=l1, power_t=0.8 ............................\n",
      "[CV] ............. eta0=0.0001, penalty=l1, power_t=0.8, total=  35.7s\n",
      "[CV] eta0=0.0001, penalty=l1, power_t=0.8 ............................\n",
      "[CV] ............. eta0=0.0001, penalty=l1, power_t=0.8, total=  34.8s\n",
      "[CV] eta0=0.0001, penalty=l2, power_t=0.2 ............................\n",
      "[CV] ............. eta0=0.0001, penalty=l2, power_t=0.2, total=  26.1s\n",
      "[CV] eta0=0.0001, penalty=l2, power_t=0.2 ............................\n",
      "[CV] ............. eta0=0.0001, penalty=l2, power_t=0.2, total=  26.3s\n",
      "[CV] eta0=0.0001, penalty=l2, power_t=0.2 ............................\n",
      "[CV] ............. eta0=0.0001, penalty=l2, power_t=0.2, total=  25.5s\n",
      "[CV] eta0=0.0001, penalty=l2, power_t=0.5 ............................\n",
      "[CV] ............. eta0=0.0001, penalty=l2, power_t=0.5, total=  25.3s\n",
      "[CV] eta0=0.0001, penalty=l2, power_t=0.5 ............................\n",
      "[CV] ............. eta0=0.0001, penalty=l2, power_t=0.5, total=  25.7s\n",
      "[CV] eta0=0.0001, penalty=l2, power_t=0.5 ............................\n",
      "[CV] ............. eta0=0.0001, penalty=l2, power_t=0.5, total=  25.2s\n",
      "[CV] eta0=0.0001, penalty=l2, power_t=0.8 ............................\n",
      "[CV] ............. eta0=0.0001, penalty=l2, power_t=0.8, total=  25.3s\n",
      "[CV] eta0=0.0001, penalty=l2, power_t=0.8 ............................\n",
      "[CV] ............. eta0=0.0001, penalty=l2, power_t=0.8, total=  27.2s\n",
      "[CV] eta0=0.0001, penalty=l2, power_t=0.8 ............................\n",
      "[CV] ............. eta0=0.0001, penalty=l2, power_t=0.8, total=  25.1s\n",
      "[CV] eta0=0.001, penalty=l1, power_t=0.2 .............................\n",
      "[CV] .............. eta0=0.001, penalty=l1, power_t=0.2, total=  38.2s\n",
      "[CV] eta0=0.001, penalty=l1, power_t=0.2 .............................\n",
      "[CV] .............. eta0=0.001, penalty=l1, power_t=0.2, total=  40.0s\n",
      "[CV] eta0=0.001, penalty=l1, power_t=0.2 .............................\n",
      "[CV] .............. eta0=0.001, penalty=l1, power_t=0.2, total=  39.0s\n",
      "[CV] eta0=0.001, penalty=l1, power_t=0.5 .............................\n",
      "[CV] .............. eta0=0.001, penalty=l1, power_t=0.5, total=  36.7s\n",
      "[CV] eta0=0.001, penalty=l1, power_t=0.5 .............................\n",
      "[CV] .............. eta0=0.001, penalty=l1, power_t=0.5, total=  35.3s\n",
      "[CV] eta0=0.001, penalty=l1, power_t=0.5 .............................\n",
      "[CV] .............. eta0=0.001, penalty=l1, power_t=0.5, total=  36.5s\n",
      "[CV] eta0=0.001, penalty=l1, power_t=0.8 .............................\n",
      "[CV] .............. eta0=0.001, penalty=l1, power_t=0.8, total=  36.2s\n",
      "[CV] eta0=0.001, penalty=l1, power_t=0.8 .............................\n",
      "[CV] .............. eta0=0.001, penalty=l1, power_t=0.8, total=  34.3s\n",
      "[CV] eta0=0.001, penalty=l1, power_t=0.8 .............................\n",
      "[CV] .............. eta0=0.001, penalty=l1, power_t=0.8, total=  34.9s\n",
      "[CV] eta0=0.001, penalty=l2, power_t=0.2 .............................\n",
      "[CV] .............. eta0=0.001, penalty=l2, power_t=0.2, total=  25.7s\n",
      "[CV] eta0=0.001, penalty=l2, power_t=0.2 .............................\n",
      "[CV] .............. eta0=0.001, penalty=l2, power_t=0.2, total=  26.6s\n",
      "[CV] eta0=0.001, penalty=l2, power_t=0.2 .............................\n",
      "[CV] .............. eta0=0.001, penalty=l2, power_t=0.2, total=  24.3s\n",
      "[CV] eta0=0.001, penalty=l2, power_t=0.5 .............................\n",
      "[CV] .............. eta0=0.001, penalty=l2, power_t=0.5, total=  25.5s\n",
      "[CV] eta0=0.001, penalty=l2, power_t=0.5 .............................\n",
      "[CV] .............. eta0=0.001, penalty=l2, power_t=0.5, total=  25.3s\n",
      "[CV] eta0=0.001, penalty=l2, power_t=0.5 .............................\n",
      "[CV] .............. eta0=0.001, penalty=l2, power_t=0.5, total=  26.1s\n",
      "[CV] eta0=0.001, penalty=l2, power_t=0.8 .............................\n",
      "[CV] .............. eta0=0.001, penalty=l2, power_t=0.8, total=  25.1s\n",
      "[CV] eta0=0.001, penalty=l2, power_t=0.8 .............................\n",
      "[CV] .............. eta0=0.001, penalty=l2, power_t=0.8, total=  25.2s\n",
      "[CV] eta0=0.001, penalty=l2, power_t=0.8 .............................\n",
      "[CV] .............. eta0=0.001, penalty=l2, power_t=0.8, total=  25.5s\n",
      "[CV] eta0=0.01, penalty=l1, power_t=0.2 ..............................\n",
      "[CV] ............... eta0=0.01, penalty=l1, power_t=0.2, total=  40.1s\n",
      "[CV] eta0=0.01, penalty=l1, power_t=0.2 ..............................\n",
      "[CV] ............... eta0=0.01, penalty=l1, power_t=0.2, total=  41.1s\n",
      "[CV] eta0=0.01, penalty=l1, power_t=0.2 ..............................\n",
      "[CV] ............... eta0=0.01, penalty=l1, power_t=0.2, total=  40.0s\n",
      "[CV] eta0=0.01, penalty=l1, power_t=0.5 ..............................\n",
      "[CV] ............... eta0=0.01, penalty=l1, power_t=0.5, total=  38.2s\n",
      "[CV] eta0=0.01, penalty=l1, power_t=0.5 ..............................\n",
      "[CV] ............... eta0=0.01, penalty=l1, power_t=0.5, total=  37.4s\n",
      "[CV] eta0=0.01, penalty=l1, power_t=0.5 ..............................\n",
      "[CV] ............... eta0=0.01, penalty=l1, power_t=0.5, total=  36.7s\n",
      "[CV] eta0=0.01, penalty=l1, power_t=0.8 ..............................\n",
      "[CV] ............... eta0=0.01, penalty=l1, power_t=0.8, total=  35.3s\n",
      "[CV] eta0=0.01, penalty=l1, power_t=0.8 ..............................\n",
      "[CV] ............... eta0=0.01, penalty=l1, power_t=0.8, total=  35.7s\n",
      "[CV] eta0=0.01, penalty=l1, power_t=0.8 ..............................\n",
      "[CV] ............... eta0=0.01, penalty=l1, power_t=0.8, total=  34.8s\n",
      "[CV] eta0=0.01, penalty=l2, power_t=0.2 ..............................\n",
      "[CV] ............... eta0=0.01, penalty=l2, power_t=0.2, total=  24.1s\n",
      "[CV] eta0=0.01, penalty=l2, power_t=0.2 ..............................\n",
      "[CV] ............... eta0=0.01, penalty=l2, power_t=0.2, total=  24.0s\n",
      "[CV] eta0=0.01, penalty=l2, power_t=0.2 ..............................\n",
      "[CV] ............... eta0=0.01, penalty=l2, power_t=0.2, total=  24.4s\n",
      "[CV] eta0=0.01, penalty=l2, power_t=0.5 ..............................\n",
      "[CV] ............... eta0=0.01, penalty=l2, power_t=0.5, total=  24.3s\n",
      "[CV] eta0=0.01, penalty=l2, power_t=0.5 ..............................\n",
      "[CV] ............... eta0=0.01, penalty=l2, power_t=0.5, total=  24.1s\n",
      "[CV] eta0=0.01, penalty=l2, power_t=0.5 ..............................\n",
      "[CV] ............... eta0=0.01, penalty=l2, power_t=0.5, total=  23.9s\n",
      "[CV] eta0=0.01, penalty=l2, power_t=0.8 ..............................\n",
      "[CV] ............... eta0=0.01, penalty=l2, power_t=0.8, total=  24.0s\n",
      "[CV] eta0=0.01, penalty=l2, power_t=0.8 ..............................\n",
      "[CV] ............... eta0=0.01, penalty=l2, power_t=0.8, total=  24.1s\n",
      "[CV] eta0=0.01, penalty=l2, power_t=0.8 ..............................\n",
      "[CV] ............... eta0=0.01, penalty=l2, power_t=0.8, total=  23.8s\n",
      "[CV] eta0=0.1, penalty=l1, power_t=0.2 ...............................\n",
      "[CV] ................ eta0=0.1, penalty=l1, power_t=0.2, total=  42.5s\n",
      "[CV] eta0=0.1, penalty=l1, power_t=0.2 ...............................\n",
      "[CV] ................ eta0=0.1, penalty=l1, power_t=0.2, total=  42.7s\n",
      "[CV] eta0=0.1, penalty=l1, power_t=0.2 ...............................\n",
      "[CV] ................ eta0=0.1, penalty=l1, power_t=0.2, total=  42.6s\n",
      "[CV] eta0=0.1, penalty=l1, power_t=0.5 ...............................\n",
      "[CV] ................ eta0=0.1, penalty=l1, power_t=0.5, total=  36.3s\n",
      "[CV] eta0=0.1, penalty=l1, power_t=0.5 ...............................\n",
      "[CV] ................ eta0=0.1, penalty=l1, power_t=0.5, total=  37.5s\n",
      "[CV] eta0=0.1, penalty=l1, power_t=0.5 ...............................\n"
     ]
    },
    {
     "name": "stdout",
     "output_type": "stream",
     "text": [
      "[CV] ................ eta0=0.1, penalty=l1, power_t=0.5, total=  38.0s\n",
      "[CV] eta0=0.1, penalty=l1, power_t=0.8 ...............................\n",
      "[CV] ................ eta0=0.1, penalty=l1, power_t=0.8, total=  35.8s\n",
      "[CV] eta0=0.1, penalty=l1, power_t=0.8 ...............................\n",
      "[CV] ................ eta0=0.1, penalty=l1, power_t=0.8, total=  35.1s\n",
      "[CV] eta0=0.1, penalty=l1, power_t=0.8 ...............................\n",
      "[CV] ................ eta0=0.1, penalty=l1, power_t=0.8, total=  35.2s\n",
      "[CV] eta0=0.1, penalty=l2, power_t=0.2 ...............................\n",
      "[CV] ................ eta0=0.1, penalty=l2, power_t=0.2, total=  24.1s\n",
      "[CV] eta0=0.1, penalty=l2, power_t=0.2 ...............................\n",
      "[CV] ................ eta0=0.1, penalty=l2, power_t=0.2, total=  24.2s\n",
      "[CV] eta0=0.1, penalty=l2, power_t=0.2 ...............................\n",
      "[CV] ................ eta0=0.1, penalty=l2, power_t=0.2, total=  24.3s\n",
      "[CV] eta0=0.1, penalty=l2, power_t=0.5 ...............................\n",
      "[CV] ................ eta0=0.1, penalty=l2, power_t=0.5, total=  24.1s\n",
      "[CV] eta0=0.1, penalty=l2, power_t=0.5 ...............................\n",
      "[CV] ................ eta0=0.1, penalty=l2, power_t=0.5, total=  24.0s\n",
      "[CV] eta0=0.1, penalty=l2, power_t=0.5 ...............................\n",
      "[CV] ................ eta0=0.1, penalty=l2, power_t=0.5, total=  24.1s\n",
      "[CV] eta0=0.1, penalty=l2, power_t=0.8 ...............................\n",
      "[CV] ................ eta0=0.1, penalty=l2, power_t=0.8, total=  24.2s\n",
      "[CV] eta0=0.1, penalty=l2, power_t=0.8 ...............................\n",
      "[CV] ................ eta0=0.1, penalty=l2, power_t=0.8, total=  23.9s\n",
      "[CV] eta0=0.1, penalty=l2, power_t=0.8 ...............................\n",
      "[CV] ................ eta0=0.1, penalty=l2, power_t=0.8, total=  24.2s\n"
     ]
    },
    {
     "name": "stderr",
     "output_type": "stream",
     "text": [
      "[Parallel(n_jobs=1)]: Done  72 out of  72 | elapsed: 38.1min finished\n"
     ]
    },
    {
     "name": "stdout",
     "output_type": "stream",
     "text": [
      "______________________________________________________________\n",
      "______________________________________________________________\n",
      "RandomOverSampler\n",
      "Fitting 3 folds for each of 24 candidates, totalling 72 fits\n",
      "[CV] eta0=0.0001, penalty=l1, power_t=0.2 ............................\n",
      "[CV] ............. eta0=0.0001, penalty=l1, power_t=0.2, total=  46.1s\n",
      "[CV] eta0=0.0001, penalty=l1, power_t=0.2 ............................\n"
     ]
    },
    {
     "name": "stderr",
     "output_type": "stream",
     "text": [
      "[Parallel(n_jobs=1)]: Done   1 out of   1 | elapsed:   46.6s remaining:    0.0s\n"
     ]
    },
    {
     "name": "stdout",
     "output_type": "stream",
     "text": [
      "[CV] ............. eta0=0.0001, penalty=l1, power_t=0.2, total=  37.6s\n",
      "[CV] eta0=0.0001, penalty=l1, power_t=0.2 ............................\n",
      "[CV] ............. eta0=0.0001, penalty=l1, power_t=0.2, total=  37.3s\n",
      "[CV] eta0=0.0001, penalty=l1, power_t=0.5 ............................\n",
      "[CV] ............. eta0=0.0001, penalty=l1, power_t=0.5, total=  36.2s\n",
      "[CV] eta0=0.0001, penalty=l1, power_t=0.5 ............................\n",
      "[CV] ............. eta0=0.0001, penalty=l1, power_t=0.5, total=  34.1s\n",
      "[CV] eta0=0.0001, penalty=l1, power_t=0.5 ............................\n",
      "[CV] ............. eta0=0.0001, penalty=l1, power_t=0.5, total=  38.1s\n",
      "[CV] eta0=0.0001, penalty=l1, power_t=0.8 ............................\n",
      "[CV] ............. eta0=0.0001, penalty=l1, power_t=0.8, total=  34.5s\n",
      "[CV] eta0=0.0001, penalty=l1, power_t=0.8 ............................\n",
      "[CV] ............. eta0=0.0001, penalty=l1, power_t=0.8, total=  33.9s\n",
      "[CV] eta0=0.0001, penalty=l1, power_t=0.8 ............................\n",
      "[CV] ............. eta0=0.0001, penalty=l1, power_t=0.8, total=  33.2s\n",
      "[CV] eta0=0.0001, penalty=l2, power_t=0.2 ............................\n",
      "[CV] ............. eta0=0.0001, penalty=l2, power_t=0.2, total=  23.6s\n",
      "[CV] eta0=0.0001, penalty=l2, power_t=0.2 ............................\n",
      "[CV] ............. eta0=0.0001, penalty=l2, power_t=0.2, total=  23.7s\n",
      "[CV] eta0=0.0001, penalty=l2, power_t=0.2 ............................\n",
      "[CV] ............. eta0=0.0001, penalty=l2, power_t=0.2, total=  23.8s\n",
      "[CV] eta0=0.0001, penalty=l2, power_t=0.5 ............................\n",
      "[CV] ............. eta0=0.0001, penalty=l2, power_t=0.5, total=  23.5s\n",
      "[CV] eta0=0.0001, penalty=l2, power_t=0.5 ............................\n",
      "[CV] ............. eta0=0.0001, penalty=l2, power_t=0.5, total=  23.6s\n",
      "[CV] eta0=0.0001, penalty=l2, power_t=0.5 ............................\n",
      "[CV] ............. eta0=0.0001, penalty=l2, power_t=0.5, total=  23.7s\n",
      "[CV] eta0=0.0001, penalty=l2, power_t=0.8 ............................\n",
      "[CV] ............. eta0=0.0001, penalty=l2, power_t=0.8, total=  23.8s\n",
      "[CV] eta0=0.0001, penalty=l2, power_t=0.8 ............................\n",
      "[CV] ............. eta0=0.0001, penalty=l2, power_t=0.8, total=  23.7s\n",
      "[CV] eta0=0.0001, penalty=l2, power_t=0.8 ............................\n",
      "[CV] ............. eta0=0.0001, penalty=l2, power_t=0.8, total=  23.7s\n",
      "[CV] eta0=0.001, penalty=l1, power_t=0.2 .............................\n",
      "[CV] .............. eta0=0.001, penalty=l1, power_t=0.2, total=  38.0s\n",
      "[CV] eta0=0.001, penalty=l1, power_t=0.2 .............................\n",
      "[CV] .............. eta0=0.001, penalty=l1, power_t=0.2, total=  37.2s\n",
      "[CV] eta0=0.001, penalty=l1, power_t=0.2 .............................\n",
      "[CV] .............. eta0=0.001, penalty=l1, power_t=0.2, total=  36.9s\n",
      "[CV] eta0=0.001, penalty=l1, power_t=0.5 .............................\n",
      "[CV] .............. eta0=0.001, penalty=l1, power_t=0.5, total=  34.7s\n",
      "[CV] eta0=0.001, penalty=l1, power_t=0.5 .............................\n",
      "[CV] .............. eta0=0.001, penalty=l1, power_t=0.5, total=  34.6s\n",
      "[CV] eta0=0.001, penalty=l1, power_t=0.5 .............................\n",
      "[CV] .............. eta0=0.001, penalty=l1, power_t=0.5, total=  35.0s\n",
      "[CV] eta0=0.001, penalty=l1, power_t=0.8 .............................\n",
      "[CV] .............. eta0=0.001, penalty=l1, power_t=0.8, total=  33.8s\n",
      "[CV] eta0=0.001, penalty=l1, power_t=0.8 .............................\n",
      "[CV] .............. eta0=0.001, penalty=l1, power_t=0.8, total=  33.7s\n",
      "[CV] eta0=0.001, penalty=l1, power_t=0.8 .............................\n",
      "[CV] .............. eta0=0.001, penalty=l1, power_t=0.8, total=  33.1s\n",
      "[CV] eta0=0.001, penalty=l2, power_t=0.2 .............................\n",
      "[CV] .............. eta0=0.001, penalty=l2, power_t=0.2, total=  23.8s\n",
      "[CV] eta0=0.001, penalty=l2, power_t=0.2 .............................\n",
      "[CV] .............. eta0=0.001, penalty=l2, power_t=0.2, total=  23.6s\n",
      "[CV] eta0=0.001, penalty=l2, power_t=0.2 .............................\n",
      "[CV] .............. eta0=0.001, penalty=l2, power_t=0.2, total=  23.7s\n",
      "[CV] eta0=0.001, penalty=l2, power_t=0.5 .............................\n",
      "[CV] .............. eta0=0.001, penalty=l2, power_t=0.5, total=  23.7s\n",
      "[CV] eta0=0.001, penalty=l2, power_t=0.5 .............................\n",
      "[CV] .............. eta0=0.001, penalty=l2, power_t=0.5, total=  23.7s\n",
      "[CV] eta0=0.001, penalty=l2, power_t=0.5 .............................\n",
      "[CV] .............. eta0=0.001, penalty=l2, power_t=0.5, total=  23.6s\n",
      "[CV] eta0=0.001, penalty=l2, power_t=0.8 .............................\n",
      "[CV] .............. eta0=0.001, penalty=l2, power_t=0.8, total=  23.6s\n",
      "[CV] eta0=0.001, penalty=l2, power_t=0.8 .............................\n",
      "[CV] .............. eta0=0.001, penalty=l2, power_t=0.8, total=  23.5s\n",
      "[CV] eta0=0.001, penalty=l2, power_t=0.8 .............................\n",
      "[CV] .............. eta0=0.001, penalty=l2, power_t=0.8, total=  23.5s\n",
      "[CV] eta0=0.01, penalty=l1, power_t=0.2 ..............................\n",
      "[CV] ............... eta0=0.01, penalty=l1, power_t=0.2, total=  39.6s\n",
      "[CV] eta0=0.01, penalty=l1, power_t=0.2 ..............................\n",
      "[CV] ............... eta0=0.01, penalty=l1, power_t=0.2, total=  39.0s\n",
      "[CV] eta0=0.01, penalty=l1, power_t=0.2 ..............................\n",
      "[CV] ............... eta0=0.01, penalty=l1, power_t=0.2, total=  39.1s\n",
      "[CV] eta0=0.01, penalty=l1, power_t=0.5 ..............................\n",
      "[CV] ............... eta0=0.01, penalty=l1, power_t=0.5, total=  37.7s\n",
      "[CV] eta0=0.01, penalty=l1, power_t=0.5 ..............................\n",
      "[CV] ............... eta0=0.01, penalty=l1, power_t=0.5, total=  38.1s\n",
      "[CV] eta0=0.01, penalty=l1, power_t=0.5 ..............................\n",
      "[CV] ............... eta0=0.01, penalty=l1, power_t=0.5, total=  36.6s\n",
      "[CV] eta0=0.01, penalty=l1, power_t=0.8 ..............................\n",
      "[CV] ............... eta0=0.01, penalty=l1, power_t=0.8, total=  34.6s\n",
      "[CV] eta0=0.01, penalty=l1, power_t=0.8 ..............................\n",
      "[CV] ............... eta0=0.01, penalty=l1, power_t=0.8, total=  33.7s\n",
      "[CV] eta0=0.01, penalty=l1, power_t=0.8 ..............................\n",
      "[CV] ............... eta0=0.01, penalty=l1, power_t=0.8, total=  35.4s\n",
      "[CV] eta0=0.01, penalty=l2, power_t=0.2 ..............................\n",
      "[CV] ............... eta0=0.01, penalty=l2, power_t=0.2, total=  23.9s\n",
      "[CV] eta0=0.01, penalty=l2, power_t=0.2 ..............................\n",
      "[CV] ............... eta0=0.01, penalty=l2, power_t=0.2, total=  23.9s\n",
      "[CV] eta0=0.01, penalty=l2, power_t=0.2 ..............................\n",
      "[CV] ............... eta0=0.01, penalty=l2, power_t=0.2, total=  23.8s\n",
      "[CV] eta0=0.01, penalty=l2, power_t=0.5 ..............................\n",
      "[CV] ............... eta0=0.01, penalty=l2, power_t=0.5, total=  23.9s\n",
      "[CV] eta0=0.01, penalty=l2, power_t=0.5 ..............................\n",
      "[CV] ............... eta0=0.01, penalty=l2, power_t=0.5, total=  23.8s\n",
      "[CV] eta0=0.01, penalty=l2, power_t=0.5 ..............................\n",
      "[CV] ............... eta0=0.01, penalty=l2, power_t=0.5, total=  23.9s\n",
      "[CV] eta0=0.01, penalty=l2, power_t=0.8 ..............................\n",
      "[CV] ............... eta0=0.01, penalty=l2, power_t=0.8, total=  23.5s\n",
      "[CV] eta0=0.01, penalty=l2, power_t=0.8 ..............................\n",
      "[CV] ............... eta0=0.01, penalty=l2, power_t=0.8, total=  23.6s\n",
      "[CV] eta0=0.01, penalty=l2, power_t=0.8 ..............................\n",
      "[CV] ............... eta0=0.01, penalty=l2, power_t=0.8, total=  23.6s\n",
      "[CV] eta0=0.1, penalty=l1, power_t=0.2 ...............................\n",
      "[CV] ................ eta0=0.1, penalty=l1, power_t=0.2, total=  44.1s\n",
      "[CV] eta0=0.1, penalty=l1, power_t=0.2 ...............................\n",
      "[CV] ................ eta0=0.1, penalty=l1, power_t=0.2, total=  43.9s\n",
      "[CV] eta0=0.1, penalty=l1, power_t=0.2 ...............................\n",
      "[CV] ................ eta0=0.1, penalty=l1, power_t=0.2, total=  44.3s\n",
      "[CV] eta0=0.1, penalty=l1, power_t=0.5 ...............................\n",
      "[CV] ................ eta0=0.1, penalty=l1, power_t=0.5, total=  37.8s\n",
      "[CV] eta0=0.1, penalty=l1, power_t=0.5 ...............................\n",
      "[CV] ................ eta0=0.1, penalty=l1, power_t=0.5, total=  37.4s\n",
      "[CV] eta0=0.1, penalty=l1, power_t=0.5 ...............................\n"
     ]
    },
    {
     "name": "stdout",
     "output_type": "stream",
     "text": [
      "[CV] ................ eta0=0.1, penalty=l1, power_t=0.5, total=  37.6s\n",
      "[CV] eta0=0.1, penalty=l1, power_t=0.8 ...............................\n",
      "[CV] ................ eta0=0.1, penalty=l1, power_t=0.8, total=  34.7s\n",
      "[CV] eta0=0.1, penalty=l1, power_t=0.8 ...............................\n",
      "[CV] ................ eta0=0.1, penalty=l1, power_t=0.8, total=  34.5s\n",
      "[CV] eta0=0.1, penalty=l1, power_t=0.8 ...............................\n",
      "[CV] ................ eta0=0.1, penalty=l1, power_t=0.8, total=  34.3s\n",
      "[CV] eta0=0.1, penalty=l2, power_t=0.2 ...............................\n",
      "[CV] ................ eta0=0.1, penalty=l2, power_t=0.2, total=  23.7s\n",
      "[CV] eta0=0.1, penalty=l2, power_t=0.2 ...............................\n",
      "[CV] ................ eta0=0.1, penalty=l2, power_t=0.2, total=  23.9s\n",
      "[CV] eta0=0.1, penalty=l2, power_t=0.2 ...............................\n",
      "[CV] ................ eta0=0.1, penalty=l2, power_t=0.2, total=  23.7s\n",
      "[CV] eta0=0.1, penalty=l2, power_t=0.5 ...............................\n",
      "[CV] ................ eta0=0.1, penalty=l2, power_t=0.5, total=  23.6s\n",
      "[CV] eta0=0.1, penalty=l2, power_t=0.5 ...............................\n",
      "[CV] ................ eta0=0.1, penalty=l2, power_t=0.5, total=  23.7s\n",
      "[CV] eta0=0.1, penalty=l2, power_t=0.5 ...............................\n",
      "[CV] ................ eta0=0.1, penalty=l2, power_t=0.5, total=  23.6s\n",
      "[CV] eta0=0.1, penalty=l2, power_t=0.8 ...............................\n",
      "[CV] ................ eta0=0.1, penalty=l2, power_t=0.8, total=  23.6s\n",
      "[CV] eta0=0.1, penalty=l2, power_t=0.8 ...............................\n",
      "[CV] ................ eta0=0.1, penalty=l2, power_t=0.8, total=  23.6s\n",
      "[CV] eta0=0.1, penalty=l2, power_t=0.8 ...............................\n",
      "[CV] ................ eta0=0.1, penalty=l2, power_t=0.8, total=  23.6s\n"
     ]
    },
    {
     "name": "stderr",
     "output_type": "stream",
     "text": [
      "[Parallel(n_jobs=1)]: Done  72 out of  72 | elapsed: 37.0min finished\n"
     ]
    },
    {
     "name": "stdout",
     "output_type": "stream",
     "text": [
      "______________________________________________________________\n",
      "______________________________________________________________\n",
      "NearMiss\n",
      "Fitting 3 folds for each of 24 candidates, totalling 72 fits\n",
      "[CV] eta0=0.0001, penalty=l1, power_t=0.2 ............................\n",
      "[CV] ............. eta0=0.0001, penalty=l1, power_t=0.2, total=   0.1s\n",
      "[CV] eta0=0.0001, penalty=l1, power_t=0.2 ............................\n",
      "[CV] ............. eta0=0.0001, penalty=l1, power_t=0.2, total=   0.0s\n",
      "[CV] eta0=0.0001, penalty=l1, power_t=0.2 ............................\n",
      "[CV] ............. eta0=0.0001, penalty=l1, power_t=0.2, total=   0.0s\n",
      "[CV] eta0=0.0001, penalty=l1, power_t=0.5 ............................\n"
     ]
    },
    {
     "name": "stderr",
     "output_type": "stream",
     "text": [
      "[Parallel(n_jobs=1)]: Done   1 out of   1 | elapsed:    0.1s remaining:    0.0s\n"
     ]
    },
    {
     "name": "stdout",
     "output_type": "stream",
     "text": [
      "[CV] ............. eta0=0.0001, penalty=l1, power_t=0.5, total=   0.0s\n",
      "[CV] eta0=0.0001, penalty=l1, power_t=0.5 ............................\n",
      "[CV] ............. eta0=0.0001, penalty=l1, power_t=0.5, total=   0.0s\n",
      "[CV] eta0=0.0001, penalty=l1, power_t=0.5 ............................\n",
      "[CV] ............. eta0=0.0001, penalty=l1, power_t=0.5, total=   0.0s\n",
      "[CV] eta0=0.0001, penalty=l1, power_t=0.8 ............................\n",
      "[CV] ............. eta0=0.0001, penalty=l1, power_t=0.8, total=   0.0s\n",
      "[CV] eta0=0.0001, penalty=l1, power_t=0.8 ............................\n",
      "[CV] ............. eta0=0.0001, penalty=l1, power_t=0.8, total=   0.0s\n",
      "[CV] eta0=0.0001, penalty=l1, power_t=0.8 ............................\n",
      "[CV] ............. eta0=0.0001, penalty=l1, power_t=0.8, total=   0.0s\n",
      "[CV] eta0=0.0001, penalty=l2, power_t=0.2 ............................\n",
      "[CV] ............. eta0=0.0001, penalty=l2, power_t=0.2, total=   0.0s\n",
      "[CV] eta0=0.0001, penalty=l2, power_t=0.2 ............................\n",
      "[CV] ............. eta0=0.0001, penalty=l2, power_t=0.2, total=   0.0s\n",
      "[CV] eta0=0.0001, penalty=l2, power_t=0.2 ............................\n",
      "[CV] ............. eta0=0.0001, penalty=l2, power_t=0.2, total=   0.0s\n",
      "[CV] eta0=0.0001, penalty=l2, power_t=0.5 ............................\n",
      "[CV] ............. eta0=0.0001, penalty=l2, power_t=0.5, total=   0.0s\n",
      "[CV] eta0=0.0001, penalty=l2, power_t=0.5 ............................\n",
      "[CV] ............. eta0=0.0001, penalty=l2, power_t=0.5, total=   0.0s\n",
      "[CV] eta0=0.0001, penalty=l2, power_t=0.5 ............................\n",
      "[CV] ............. eta0=0.0001, penalty=l2, power_t=0.5, total=   0.0s\n",
      "[CV] eta0=0.0001, penalty=l2, power_t=0.8 ............................\n",
      "[CV] ............. eta0=0.0001, penalty=l2, power_t=0.8, total=   0.0s\n",
      "[CV] eta0=0.0001, penalty=l2, power_t=0.8 ............................\n",
      "[CV] ............. eta0=0.0001, penalty=l2, power_t=0.8, total=   0.0s\n",
      "[CV] eta0=0.0001, penalty=l2, power_t=0.8 ............................\n",
      "[CV] ............. eta0=0.0001, penalty=l2, power_t=0.8, total=   0.0s\n",
      "[CV] eta0=0.001, penalty=l1, power_t=0.2 .............................\n",
      "[CV] .............. eta0=0.001, penalty=l1, power_t=0.2, total=   0.0s\n",
      "[CV] eta0=0.001, penalty=l1, power_t=0.2 .............................\n",
      "[CV] .............. eta0=0.001, penalty=l1, power_t=0.2, total=   0.0s\n",
      "[CV] eta0=0.001, penalty=l1, power_t=0.2 .............................\n",
      "[CV] .............. eta0=0.001, penalty=l1, power_t=0.2, total=   0.0s\n",
      "[CV] eta0=0.001, penalty=l1, power_t=0.5 .............................\n",
      "[CV] .............. eta0=0.001, penalty=l1, power_t=0.5, total=   0.0s\n",
      "[CV] eta0=0.001, penalty=l1, power_t=0.5 .............................\n",
      "[CV] .............. eta0=0.001, penalty=l1, power_t=0.5, total=   0.0s\n",
      "[CV] eta0=0.001, penalty=l1, power_t=0.5 .............................\n",
      "[CV] .............. eta0=0.001, penalty=l1, power_t=0.5, total=   0.0s\n",
      "[CV] eta0=0.001, penalty=l1, power_t=0.8 .............................\n",
      "[CV] .............. eta0=0.001, penalty=l1, power_t=0.8, total=   0.0s\n",
      "[CV] eta0=0.001, penalty=l1, power_t=0.8 .............................\n",
      "[CV] .............. eta0=0.001, penalty=l1, power_t=0.8, total=   0.0s\n",
      "[CV] eta0=0.001, penalty=l1, power_t=0.8 .............................\n",
      "[CV] .............. eta0=0.001, penalty=l1, power_t=0.8, total=   0.0s\n",
      "[CV] eta0=0.001, penalty=l2, power_t=0.2 .............................\n",
      "[CV] .............. eta0=0.001, penalty=l2, power_t=0.2, total=   0.0s\n",
      "[CV] eta0=0.001, penalty=l2, power_t=0.2 .............................\n",
      "[CV] .............. eta0=0.001, penalty=l2, power_t=0.2, total=   0.0s\n",
      "[CV] eta0=0.001, penalty=l2, power_t=0.2 .............................\n",
      "[CV] .............. eta0=0.001, penalty=l2, power_t=0.2, total=   0.0s\n",
      "[CV] eta0=0.001, penalty=l2, power_t=0.5 .............................\n",
      "[CV] .............. eta0=0.001, penalty=l2, power_t=0.5, total=   0.0s\n",
      "[CV] eta0=0.001, penalty=l2, power_t=0.5 .............................\n",
      "[CV] .............. eta0=0.001, penalty=l2, power_t=0.5, total=   0.0s\n",
      "[CV] eta0=0.001, penalty=l2, power_t=0.5 .............................\n",
      "[CV] .............. eta0=0.001, penalty=l2, power_t=0.5, total=   0.0s\n",
      "[CV] eta0=0.001, penalty=l2, power_t=0.8 .............................\n",
      "[CV] .............. eta0=0.001, penalty=l2, power_t=0.8, total=   0.0s\n",
      "[CV] eta0=0.001, penalty=l2, power_t=0.8 .............................\n",
      "[CV] .............. eta0=0.001, penalty=l2, power_t=0.8, total=   0.0s\n",
      "[CV] eta0=0.001, penalty=l2, power_t=0.8 .............................\n",
      "[CV] .............. eta0=0.001, penalty=l2, power_t=0.8, total=   0.0s\n",
      "[CV] eta0=0.01, penalty=l1, power_t=0.2 ..............................\n",
      "[CV] ............... eta0=0.01, penalty=l1, power_t=0.2, total=   0.0s\n",
      "[CV] eta0=0.01, penalty=l1, power_t=0.2 ..............................\n",
      "[CV] ............... eta0=0.01, penalty=l1, power_t=0.2, total=   0.0s\n",
      "[CV] eta0=0.01, penalty=l1, power_t=0.2 ..............................\n",
      "[CV] ............... eta0=0.01, penalty=l1, power_t=0.2, total=   0.0s\n",
      "[CV] eta0=0.01, penalty=l1, power_t=0.5 ..............................\n",
      "[CV] ............... eta0=0.01, penalty=l1, power_t=0.5, total=   0.0s\n",
      "[CV] eta0=0.01, penalty=l1, power_t=0.5 ..............................\n",
      "[CV] ............... eta0=0.01, penalty=l1, power_t=0.5, total=   0.0s\n",
      "[CV] eta0=0.01, penalty=l1, power_t=0.5 ..............................\n",
      "[CV] ............... eta0=0.01, penalty=l1, power_t=0.5, total=   0.0s\n",
      "[CV] eta0=0.01, penalty=l1, power_t=0.8 ..............................\n",
      "[CV] ............... eta0=0.01, penalty=l1, power_t=0.8, total=   0.0s\n",
      "[CV] eta0=0.01, penalty=l1, power_t=0.8 ..............................\n",
      "[CV] ............... eta0=0.01, penalty=l1, power_t=0.8, total=   0.0s\n",
      "[CV] eta0=0.01, penalty=l1, power_t=0.8 ..............................\n",
      "[CV] ............... eta0=0.01, penalty=l1, power_t=0.8, total=   0.0s\n",
      "[CV] eta0=0.01, penalty=l2, power_t=0.2 ..............................\n",
      "[CV] ............... eta0=0.01, penalty=l2, power_t=0.2, total=   0.0s\n",
      "[CV] eta0=0.01, penalty=l2, power_t=0.2 ..............................\n",
      "[CV] ............... eta0=0.01, penalty=l2, power_t=0.2, total=   0.0s\n",
      "[CV] eta0=0.01, penalty=l2, power_t=0.2 ..............................\n",
      "[CV] ............... eta0=0.01, penalty=l2, power_t=0.2, total=   0.0s\n",
      "[CV] eta0=0.01, penalty=l2, power_t=0.5 ..............................\n",
      "[CV] ............... eta0=0.01, penalty=l2, power_t=0.5, total=   0.0s\n",
      "[CV] eta0=0.01, penalty=l2, power_t=0.5 ..............................\n",
      "[CV] ............... eta0=0.01, penalty=l2, power_t=0.5, total=   0.0s\n",
      "[CV] eta0=0.01, penalty=l2, power_t=0.5 ..............................\n",
      "[CV] ............... eta0=0.01, penalty=l2, power_t=0.5, total=   0.0s\n",
      "[CV] eta0=0.01, penalty=l2, power_t=0.8 ..............................\n",
      "[CV] ............... eta0=0.01, penalty=l2, power_t=0.8, total=   0.0s\n",
      "[CV] eta0=0.01, penalty=l2, power_t=0.8 ..............................\n",
      "[CV] ............... eta0=0.01, penalty=l2, power_t=0.8, total=   0.0s\n",
      "[CV] eta0=0.01, penalty=l2, power_t=0.8 ..............................\n",
      "[CV] ............... eta0=0.01, penalty=l2, power_t=0.8, total=   0.0s\n",
      "[CV] eta0=0.1, penalty=l1, power_t=0.2 ...............................\n",
      "[CV] ................ eta0=0.1, penalty=l1, power_t=0.2, total=   0.0s\n",
      "[CV] eta0=0.1, penalty=l1, power_t=0.2 ...............................\n",
      "[CV] ................ eta0=0.1, penalty=l1, power_t=0.2, total=   0.0s\n",
      "[CV] eta0=0.1, penalty=l1, power_t=0.2 ...............................\n",
      "[CV] ................ eta0=0.1, penalty=l1, power_t=0.2, total=   0.0s\n",
      "[CV] eta0=0.1, penalty=l1, power_t=0.5 ...............................\n",
      "[CV] ................ eta0=0.1, penalty=l1, power_t=0.5, total=   0.0s\n",
      "[CV] eta0=0.1, penalty=l1, power_t=0.5 ...............................\n",
      "[CV] ................ eta0=0.1, penalty=l1, power_t=0.5, total=   0.0s\n",
      "[CV] eta0=0.1, penalty=l1, power_t=0.5 ...............................\n",
      "[CV] ................ eta0=0.1, penalty=l1, power_t=0.5, total=   0.0s\n",
      "[CV] eta0=0.1, penalty=l1, power_t=0.8 ...............................\n",
      "[CV] ................ eta0=0.1, penalty=l1, power_t=0.8, total=   0.0s\n",
      "[CV] eta0=0.1, penalty=l1, power_t=0.8 ...............................\n",
      "[CV] ................ eta0=0.1, penalty=l1, power_t=0.8, total=   0.0s\n",
      "[CV] eta0=0.1, penalty=l1, power_t=0.8 ...............................\n"
     ]
    },
    {
     "name": "stdout",
     "output_type": "stream",
     "text": [
      "[CV] ................ eta0=0.1, penalty=l1, power_t=0.8, total=   0.0s\n",
      "[CV] eta0=0.1, penalty=l2, power_t=0.2 ...............................\n",
      "[CV] ................ eta0=0.1, penalty=l2, power_t=0.2, total=   0.0s\n",
      "[CV] eta0=0.1, penalty=l2, power_t=0.2 ...............................\n",
      "[CV] ................ eta0=0.1, penalty=l2, power_t=0.2, total=   0.0s\n",
      "[CV] eta0=0.1, penalty=l2, power_t=0.2 ...............................\n",
      "[CV] ................ eta0=0.1, penalty=l2, power_t=0.2, total=   0.0s\n",
      "[CV] eta0=0.1, penalty=l2, power_t=0.5 ...............................\n",
      "[CV] ................ eta0=0.1, penalty=l2, power_t=0.5, total=   0.0s\n",
      "[CV] eta0=0.1, penalty=l2, power_t=0.5 ...............................\n",
      "[CV] ................ eta0=0.1, penalty=l2, power_t=0.5, total=   0.0s\n",
      "[CV] eta0=0.1, penalty=l2, power_t=0.5 ...............................\n",
      "[CV] ................ eta0=0.1, penalty=l2, power_t=0.5, total=   0.0s\n",
      "[CV] eta0=0.1, penalty=l2, power_t=0.8 ...............................\n",
      "[CV] ................ eta0=0.1, penalty=l2, power_t=0.8, total=   0.0s\n",
      "[CV] eta0=0.1, penalty=l2, power_t=0.8 ...............................\n",
      "[CV] ................ eta0=0.1, penalty=l2, power_t=0.8, total=   0.0s\n",
      "[CV] eta0=0.1, penalty=l2, power_t=0.8 ...............................\n",
      "[CV] ................ eta0=0.1, penalty=l2, power_t=0.8, total=   0.0s\n",
      "______________________________________________________________\n",
      "______________________________________________________________\n",
      "RandomUnderSampler\n",
      "Fitting 3 folds for each of 24 candidates, totalling 72 fits\n",
      "[CV] eta0=0.0001, penalty=l1, power_t=0.2 ............................\n",
      "[CV] ............. eta0=0.0001, penalty=l1, power_t=0.2, total=   0.1s\n",
      "[CV] eta0=0.0001, penalty=l1, power_t=0.2 ............................\n"
     ]
    },
    {
     "name": "stderr",
     "output_type": "stream",
     "text": [
      "[Parallel(n_jobs=1)]: Done  72 out of  72 | elapsed:    2.7s finished\n",
      "[Parallel(n_jobs=1)]: Done   1 out of   1 | elapsed:    0.1s remaining:    0.0s\n"
     ]
    },
    {
     "name": "stdout",
     "output_type": "stream",
     "text": [
      "[CV] ............. eta0=0.0001, penalty=l1, power_t=0.2, total=   0.0s\n",
      "[CV] eta0=0.0001, penalty=l1, power_t=0.2 ............................\n",
      "[CV] ............. eta0=0.0001, penalty=l1, power_t=0.2, total=   0.0s\n",
      "[CV] eta0=0.0001, penalty=l1, power_t=0.5 ............................\n",
      "[CV] ............. eta0=0.0001, penalty=l1, power_t=0.5, total=   0.0s\n",
      "[CV] eta0=0.0001, penalty=l1, power_t=0.5 ............................\n",
      "[CV] ............. eta0=0.0001, penalty=l1, power_t=0.5, total=   0.0s\n",
      "[CV] eta0=0.0001, penalty=l1, power_t=0.5 ............................\n",
      "[CV] ............. eta0=0.0001, penalty=l1, power_t=0.5, total=   0.0s\n",
      "[CV] eta0=0.0001, penalty=l1, power_t=0.8 ............................\n",
      "[CV] ............. eta0=0.0001, penalty=l1, power_t=0.8, total=   0.0s\n",
      "[CV] eta0=0.0001, penalty=l1, power_t=0.8 ............................\n",
      "[CV] ............. eta0=0.0001, penalty=l1, power_t=0.8, total=   0.0s\n",
      "[CV] eta0=0.0001, penalty=l1, power_t=0.8 ............................\n",
      "[CV] ............. eta0=0.0001, penalty=l1, power_t=0.8, total=   0.0s\n",
      "[CV] eta0=0.0001, penalty=l2, power_t=0.2 ............................\n",
      "[CV] ............. eta0=0.0001, penalty=l2, power_t=0.2, total=   0.0s\n",
      "[CV] eta0=0.0001, penalty=l2, power_t=0.2 ............................\n",
      "[CV] ............. eta0=0.0001, penalty=l2, power_t=0.2, total=   0.0s\n",
      "[CV] eta0=0.0001, penalty=l2, power_t=0.2 ............................\n",
      "[CV] ............. eta0=0.0001, penalty=l2, power_t=0.2, total=   0.0s\n",
      "[CV] eta0=0.0001, penalty=l2, power_t=0.5 ............................\n",
      "[CV] ............. eta0=0.0001, penalty=l2, power_t=0.5, total=   0.0s\n",
      "[CV] eta0=0.0001, penalty=l2, power_t=0.5 ............................\n",
      "[CV] ............. eta0=0.0001, penalty=l2, power_t=0.5, total=   0.0s\n",
      "[CV] eta0=0.0001, penalty=l2, power_t=0.5 ............................\n",
      "[CV] ............. eta0=0.0001, penalty=l2, power_t=0.5, total=   0.0s\n",
      "[CV] eta0=0.0001, penalty=l2, power_t=0.8 ............................\n",
      "[CV] ............. eta0=0.0001, penalty=l2, power_t=0.8, total=   0.0s\n",
      "[CV] eta0=0.0001, penalty=l2, power_t=0.8 ............................\n",
      "[CV] ............. eta0=0.0001, penalty=l2, power_t=0.8, total=   0.0s\n",
      "[CV] eta0=0.0001, penalty=l2, power_t=0.8 ............................\n",
      "[CV] ............. eta0=0.0001, penalty=l2, power_t=0.8, total=   0.0s\n",
      "[CV] eta0=0.001, penalty=l1, power_t=0.2 .............................\n",
      "[CV] .............. eta0=0.001, penalty=l1, power_t=0.2, total=   0.0s\n",
      "[CV] eta0=0.001, penalty=l1, power_t=0.2 .............................\n",
      "[CV] .............. eta0=0.001, penalty=l1, power_t=0.2, total=   0.0s\n",
      "[CV] eta0=0.001, penalty=l1, power_t=0.2 .............................\n",
      "[CV] .............. eta0=0.001, penalty=l1, power_t=0.2, total=   0.0s\n",
      "[CV] eta0=0.001, penalty=l1, power_t=0.5 .............................\n",
      "[CV] .............. eta0=0.001, penalty=l1, power_t=0.5, total=   0.0s\n",
      "[CV] eta0=0.001, penalty=l1, power_t=0.5 .............................\n",
      "[CV] .............. eta0=0.001, penalty=l1, power_t=0.5, total=   0.0s\n",
      "[CV] eta0=0.001, penalty=l1, power_t=0.5 .............................\n",
      "[CV] .............. eta0=0.001, penalty=l1, power_t=0.5, total=   0.0s\n",
      "[CV] eta0=0.001, penalty=l1, power_t=0.8 .............................\n",
      "[CV] .............. eta0=0.001, penalty=l1, power_t=0.8, total=   0.0s\n",
      "[CV] eta0=0.001, penalty=l1, power_t=0.8 .............................\n",
      "[CV] .............. eta0=0.001, penalty=l1, power_t=0.8, total=   0.0s\n",
      "[CV] eta0=0.001, penalty=l1, power_t=0.8 .............................\n",
      "[CV] .............. eta0=0.001, penalty=l1, power_t=0.8, total=   0.0s\n",
      "[CV] eta0=0.001, penalty=l2, power_t=0.2 .............................\n",
      "[CV] .............. eta0=0.001, penalty=l2, power_t=0.2, total=   0.0s\n",
      "[CV] eta0=0.001, penalty=l2, power_t=0.2 .............................\n",
      "[CV] .............. eta0=0.001, penalty=l2, power_t=0.2, total=   0.0s\n",
      "[CV] eta0=0.001, penalty=l2, power_t=0.2 .............................\n",
      "[CV] .............. eta0=0.001, penalty=l2, power_t=0.2, total=   0.0s\n",
      "[CV] eta0=0.001, penalty=l2, power_t=0.5 .............................\n",
      "[CV] .............. eta0=0.001, penalty=l2, power_t=0.5, total=   0.0s\n",
      "[CV] eta0=0.001, penalty=l2, power_t=0.5 .............................\n",
      "[CV] .............. eta0=0.001, penalty=l2, power_t=0.5, total=   0.0s\n",
      "[CV] eta0=0.001, penalty=l2, power_t=0.5 .............................\n",
      "[CV] .............. eta0=0.001, penalty=l2, power_t=0.5, total=   0.0s\n",
      "[CV] eta0=0.001, penalty=l2, power_t=0.8 .............................\n",
      "[CV] .............. eta0=0.001, penalty=l2, power_t=0.8, total=   0.0s\n",
      "[CV] eta0=0.001, penalty=l2, power_t=0.8 .............................\n",
      "[CV] .............. eta0=0.001, penalty=l2, power_t=0.8, total=   0.0s\n",
      "[CV] eta0=0.001, penalty=l2, power_t=0.8 .............................\n",
      "[CV] .............. eta0=0.001, penalty=l2, power_t=0.8, total=   0.0s\n",
      "[CV] eta0=0.01, penalty=l1, power_t=0.2 ..............................\n",
      "[CV] ............... eta0=0.01, penalty=l1, power_t=0.2, total=   0.0s\n",
      "[CV] eta0=0.01, penalty=l1, power_t=0.2 ..............................\n",
      "[CV] ............... eta0=0.01, penalty=l1, power_t=0.2, total=   0.0s\n",
      "[CV] eta0=0.01, penalty=l1, power_t=0.2 ..............................\n",
      "[CV] ............... eta0=0.01, penalty=l1, power_t=0.2, total=   0.0s\n",
      "[CV] eta0=0.01, penalty=l1, power_t=0.5 ..............................\n",
      "[CV] ............... eta0=0.01, penalty=l1, power_t=0.5, total=   0.0s\n",
      "[CV] eta0=0.01, penalty=l1, power_t=0.5 ..............................\n",
      "[CV] ............... eta0=0.01, penalty=l1, power_t=0.5, total=   0.0s\n",
      "[CV] eta0=0.01, penalty=l1, power_t=0.5 ..............................\n",
      "[CV] ............... eta0=0.01, penalty=l1, power_t=0.5, total=   0.0s\n",
      "[CV] eta0=0.01, penalty=l1, power_t=0.8 ..............................\n",
      "[CV] ............... eta0=0.01, penalty=l1, power_t=0.8, total=   0.0s\n",
      "[CV] eta0=0.01, penalty=l1, power_t=0.8 ..............................\n",
      "[CV] ............... eta0=0.01, penalty=l1, power_t=0.8, total=   0.0s\n",
      "[CV] eta0=0.01, penalty=l1, power_t=0.8 ..............................\n",
      "[CV] ............... eta0=0.01, penalty=l1, power_t=0.8, total=   0.0s\n",
      "[CV] eta0=0.01, penalty=l2, power_t=0.2 ..............................\n",
      "[CV] ............... eta0=0.01, penalty=l2, power_t=0.2, total=   0.0s\n",
      "[CV] eta0=0.01, penalty=l2, power_t=0.2 ..............................\n",
      "[CV] ............... eta0=0.01, penalty=l2, power_t=0.2, total=   0.0s\n",
      "[CV] eta0=0.01, penalty=l2, power_t=0.2 ..............................\n",
      "[CV] ............... eta0=0.01, penalty=l2, power_t=0.2, total=   0.0s\n",
      "[CV] eta0=0.01, penalty=l2, power_t=0.5 ..............................\n",
      "[CV] ............... eta0=0.01, penalty=l2, power_t=0.5, total=   0.0s\n",
      "[CV] eta0=0.01, penalty=l2, power_t=0.5 ..............................\n",
      "[CV] ............... eta0=0.01, penalty=l2, power_t=0.5, total=   0.0s\n",
      "[CV] eta0=0.01, penalty=l2, power_t=0.5 ..............................\n",
      "[CV] ............... eta0=0.01, penalty=l2, power_t=0.5, total=   0.0s\n",
      "[CV] eta0=0.01, penalty=l2, power_t=0.8 ..............................\n",
      "[CV] ............... eta0=0.01, penalty=l2, power_t=0.8, total=   0.0s\n",
      "[CV] eta0=0.01, penalty=l2, power_t=0.8 ..............................\n",
      "[CV] ............... eta0=0.01, penalty=l2, power_t=0.8, total=   0.0s\n",
      "[CV] eta0=0.01, penalty=l2, power_t=0.8 ..............................\n",
      "[CV] ............... eta0=0.01, penalty=l2, power_t=0.8, total=   0.0s\n",
      "[CV] eta0=0.1, penalty=l1, power_t=0.2 ...............................\n",
      "[CV] ................ eta0=0.1, penalty=l1, power_t=0.2, total=   0.1s\n",
      "[CV] eta0=0.1, penalty=l1, power_t=0.2 ...............................\n",
      "[CV] ................ eta0=0.1, penalty=l1, power_t=0.2, total=   0.1s\n",
      "[CV] eta0=0.1, penalty=l1, power_t=0.2 ...............................\n",
      "[CV] ................ eta0=0.1, penalty=l1, power_t=0.2, total=   0.1s\n",
      "[CV] eta0=0.1, penalty=l1, power_t=0.5 ...............................\n",
      "[CV] ................ eta0=0.1, penalty=l1, power_t=0.5, total=   0.0s\n",
      "[CV] eta0=0.1, penalty=l1, power_t=0.5 ...............................\n",
      "[CV] ................ eta0=0.1, penalty=l1, power_t=0.5, total=   0.0s\n",
      "[CV] eta0=0.1, penalty=l1, power_t=0.5 ...............................\n"
     ]
    },
    {
     "name": "stdout",
     "output_type": "stream",
     "text": [
      "[CV] ................ eta0=0.1, penalty=l1, power_t=0.5, total=   0.0s\n",
      "[CV] eta0=0.1, penalty=l1, power_t=0.8 ...............................\n",
      "[CV] ................ eta0=0.1, penalty=l1, power_t=0.8, total=   0.0s\n",
      "[CV] eta0=0.1, penalty=l1, power_t=0.8 ...............................\n",
      "[CV] ................ eta0=0.1, penalty=l1, power_t=0.8, total=   0.0s\n",
      "[CV] eta0=0.1, penalty=l1, power_t=0.8 ...............................\n",
      "[CV] ................ eta0=0.1, penalty=l1, power_t=0.8, total=   0.0s\n",
      "[CV] eta0=0.1, penalty=l2, power_t=0.2 ...............................\n",
      "[CV] ................ eta0=0.1, penalty=l2, power_t=0.2, total=   0.0s\n",
      "[CV] eta0=0.1, penalty=l2, power_t=0.2 ...............................\n",
      "[CV] ................ eta0=0.1, penalty=l2, power_t=0.2, total=   0.0s\n",
      "[CV] eta0=0.1, penalty=l2, power_t=0.2 ...............................\n",
      "[CV] ................ eta0=0.1, penalty=l2, power_t=0.2, total=   0.0s\n",
      "[CV] eta0=0.1, penalty=l2, power_t=0.5 ...............................\n",
      "[CV] ................ eta0=0.1, penalty=l2, power_t=0.5, total=   0.0s\n",
      "[CV] eta0=0.1, penalty=l2, power_t=0.5 ...............................\n",
      "[CV] ................ eta0=0.1, penalty=l2, power_t=0.5, total=   0.0s\n",
      "[CV] eta0=0.1, penalty=l2, power_t=0.5 ...............................\n",
      "[CV] ................ eta0=0.1, penalty=l2, power_t=0.5, total=   0.0s\n",
      "[CV] eta0=0.1, penalty=l2, power_t=0.8 ...............................\n",
      "[CV] ................ eta0=0.1, penalty=l2, power_t=0.8, total=   0.0s\n",
      "[CV] eta0=0.1, penalty=l2, power_t=0.8 ...............................\n",
      "[CV] ................ eta0=0.1, penalty=l2, power_t=0.8, total=   0.0s\n",
      "[CV] eta0=0.1, penalty=l2, power_t=0.8 ...............................\n",
      "[CV] ................ eta0=0.1, penalty=l2, power_t=0.8, total=   0.0s\n",
      "______________________________________________________________\n"
     ]
    },
    {
     "name": "stderr",
     "output_type": "stream",
     "text": [
      "[Parallel(n_jobs=1)]: Done  72 out of  72 | elapsed:    2.7s finished\n"
     ]
    }
   ],
   "source": [
    "benchmark_scores = []\n",
    "for sample_type, X, y in datasets:\n",
    "    print('______________________________________________________________')\n",
    "    print('{}'.format(sample_type))\n",
    "    benchmark_scores.append(benchmark(sample_type,X,y))\n",
    "    print('______________________________________________________________')"
   ]
  },
  {
   "cell_type": "markdown",
   "metadata": {},
   "source": [
    "NearMiss has the best ROC_AUC of 0.928 with\n",
    "```\n",
    "eta0 = 0.1\n",
    "penalty = l2\n",
    "power_t = 0.2\n",
    "```"
   ]
  },
  {
   "cell_type": "code",
   "execution_count": 12,
   "metadata": {},
   "outputs": [
    {
     "data": {
      "text/plain": [
       "[('base', 0.6896397217327885, {'eta0': 0.1, 'penalty': 'l2', 'power_t': 0.5}),\n",
       " ('SMOTE', 0.7108832110576512, {'eta0': 0.1, 'penalty': 'l2', 'power_t': 0.5}),\n",
       " ('RandomOverSampler',\n",
       "  0.7079267195892649,\n",
       "  {'eta0': 0.001, 'penalty': 'l2', 'power_t': 0.2}),\n",
       " ('NearMiss',\n",
       "  0.927722812256899,\n",
       "  {'eta0': 0.1, 'penalty': 'l1', 'power_t': 0.2}),\n",
       " ('RandomUnderSampler',\n",
       "  0.6840248935300556,\n",
       "  {'eta0': 0.01, 'penalty': 'l1', 'power_t': 0.5})]"
      ]
     },
     "execution_count": 12,
     "metadata": {},
     "output_type": "execute_result"
    }
   ],
   "source": [
    "benchmark_scores"
   ]
  },
  {
   "cell_type": "code",
   "execution_count": null,
   "metadata": {},
   "outputs": [],
   "source": []
  }
 ],
 "metadata": {
  "kernelspec": {
   "display_name": "Python 3",
   "language": "python",
   "name": "python3"
  },
  "language_info": {
   "codemirror_mode": {
    "name": "ipython",
    "version": 3
   },
   "file_extension": ".py",
   "mimetype": "text/x-python",
   "name": "python",
   "nbconvert_exporter": "python",
   "pygments_lexer": "ipython3",
   "version": "3.6.3"
  }
 },
 "nbformat": 4,
 "nbformat_minor": 2
}
