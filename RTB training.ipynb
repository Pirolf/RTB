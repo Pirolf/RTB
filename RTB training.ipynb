{
 "cells": [
  {
   "cell_type": "code",
   "execution_count": 1,
   "metadata": {},
   "outputs": [],
   "source": [
    "import pandas as pd\n",
    "import matplotlib.pyplot as plt\n",
    "import numpy as np\n",
    "\n",
    "%matplotlib inline"
   ]
  },
  {
   "cell_type": "code",
   "execution_count": 2,
   "metadata": {},
   "outputs": [],
   "source": [
    "input_path = '/Users/ytu/data/biddings.csv'"
   ]
  },
  {
   "cell_type": "code",
   "execution_count": 3,
   "metadata": {},
   "outputs": [
    {
     "name": "stdout",
     "output_type": "stream",
     "text": [
      "(1000000, 89)\n"
     ]
    }
   ],
   "source": [
    "data = pd.read_csv(input_path)\n",
    "print(data.shape)"
   ]
  },
  {
   "cell_type": "markdown",
   "metadata": {},
   "source": [
    "### Explore input data"
   ]
  },
  {
   "cell_type": "markdown",
   "metadata": {},
   "source": [
    "Only ~0.2% of rows have `convert = true`"
   ]
  },
  {
   "cell_type": "code",
   "execution_count": 8,
   "metadata": {},
   "outputs": [
    {
     "data": {
      "text/plain": [
       "0.1908"
      ]
     },
     "execution_count": 8,
     "metadata": {},
     "output_type": "execute_result"
    }
   ],
   "source": [
    "pd.value_counts(data['convert'])[1]/data.shape[0] * 100"
   ]
  },
  {
   "cell_type": "markdown",
   "metadata": {},
   "source": [
    "#### Sample the same number of rows where `convert = false` and  `convert = true`"
   ]
  },
  {
   "cell_type": "code",
   "execution_count": 60,
   "metadata": {},
   "outputs": [
    {
     "name": "stdout",
     "output_type": "stream",
     "text": [
      "features: (3816, 88), lables = (3816,)\n"
     ]
    }
   ],
   "source": [
    "def down_sampling(minority_ratio=1, minority_to_majority=1):\n",
    "    convert1_sample = data.loc[data['convert'] == 1] * minority_ratio\n",
    "    convert0_sample = data.loc[data['convert'] == 0].sample(minority_to_majority * len(convert1_sample))\n",
    "\n",
    "    # shuffle\n",
    "    sample = pd.concat([convert0_sample, convert1_sample]).sample(frac=1)\n",
    "    \n",
    "    features = sample.drop('convert', axis=1)\n",
    "    labels = sample.convert\n",
    "\n",
    "    print(\"features: {}, lables = {}\".format(features.shape, labels.shape))\n",
    "        \n",
    "    return (np.array(features), np.array(labels))\n",
    "\n",
    "\n",
    "(features, labels) = down_sampling()"
   ]
  },
  {
   "cell_type": "markdown",
   "metadata": {},
   "source": [
    "#### Logistic Regression"
   ]
  },
  {
   "cell_type": "code",
   "execution_count": 83,
   "metadata": {},
   "outputs": [],
   "source": [
    "from sklearn.linear_model import LogisticRegression\n",
    "\n",
    "regression = LogisticRegression(penalty='l2')"
   ]
  },
  {
   "cell_type": "markdown",
   "metadata": {},
   "source": [
    "Cross validation with mean accuracy as test metric"
   ]
  },
  {
   "cell_type": "code",
   "execution_count": 96,
   "metadata": {},
   "outputs": [],
   "source": [
    "from sklearn.model_selection import KFold\n",
    "\n",
    "# Returns mean accuracy\n",
    "def train_kfold_accuracy(n_splits):\n",
    "    kf = KFold(n_splits=n_splits, shuffle=True)\n",
    "    \n",
    "    accuracies = np.array([])\n",
    "    for train_index, test_index in kf.split(features):\n",
    "    #     print(\"TRAIN:\", train_index, \"TEST:\", test_index)\n",
    "        feature_train, feature_test = features[train_index], features[test_index]\n",
    "        label_train, label_test = labels[train_index], labels[test_index]\n",
    "\n",
    "        model = regression.fit(feature_train, label_train)\n",
    "        accuracies = np.append(accuracies, model.score(feature_test, label_test))\n",
    "    \n",
    "    return np.mean(accuracies)"
   ]
  },
  {
   "cell_type": "code",
   "execution_count": 102,
   "metadata": {},
   "outputs": [
    {
     "name": "stdout",
     "output_type": "stream",
     "text": [
      "0.6318134171907757\n",
      "0.6370545073375262\n",
      "0.6433438155136268\n",
      "0.6386244021601147\n",
      "0.6360062893081762\n",
      "0.6388868885592346\n"
     ]
    }
   ],
   "source": [
    "for n_splits in range(2, 8):\n",
    "    print(train_kfold_accuracy(n_splits))"
   ]
  },
  {
   "cell_type": "code",
   "execution_count": null,
   "metadata": {},
   "outputs": [],
   "source": []
  }
 ],
 "metadata": {
  "kernelspec": {
   "display_name": "Python 3",
   "language": "python",
   "name": "python3"
  },
  "language_info": {
   "codemirror_mode": {
    "name": "ipython",
    "version": 3
   },
   "file_extension": ".py",
   "mimetype": "text/x-python",
   "name": "python",
   "nbconvert_exporter": "python",
   "pygments_lexer": "ipython3",
   "version": "3.6.3"
  }
 },
 "nbformat": 4,
 "nbformat_minor": 2
}
