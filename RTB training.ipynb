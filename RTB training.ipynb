{
 "cells": [
  {
   "cell_type": "code",
   "execution_count": 4,
   "metadata": {},
   "outputs": [],
   "source": [
    "import pandas as pd\n",
    "import matplotlib.pyplot as plt\n",
    "import numpy as np\n",
    "\n",
    "%matplotlib inline"
   ]
  },
  {
   "cell_type": "code",
   "execution_count": 5,
   "metadata": {},
   "outputs": [],
   "source": [
    "input_path = '/Users/ytu/data/biddings.csv'"
   ]
  },
  {
   "cell_type": "code",
   "execution_count": 6,
   "metadata": {},
   "outputs": [
    {
     "name": "stdout",
     "output_type": "stream",
     "text": [
      "(1000000, 89)\n"
     ]
    }
   ],
   "source": [
    "data = pd.read_csv(input_path)\n",
    "print(data.shape)"
   ]
  },
  {
   "cell_type": "markdown",
   "metadata": {},
   "source": [
    "### Explore input data"
   ]
  },
  {
   "cell_type": "markdown",
   "metadata": {},
   "source": [
    "Only ~0.2% of rows have `convert = true`"
   ]
  },
  {
   "cell_type": "code",
   "execution_count": 8,
   "metadata": {},
   "outputs": [
    {
     "data": {
      "text/plain": [
       "0.1908"
      ]
     },
     "execution_count": 8,
     "metadata": {},
     "output_type": "execute_result"
    }
   ],
   "source": [
    "pd.value_counts(data['convert'])[1]/data.shape[0] * 100"
   ]
  },
  {
   "cell_type": "markdown",
   "metadata": {},
   "source": [
    "#### Sample the same number of rows where `convert = false` and  `convert = true`"
   ]
  },
  {
   "cell_type": "code",
   "execution_count": 83,
   "metadata": {},
   "outputs": [
    {
     "name": "stdout",
     "output_type": "stream",
     "text": [
      "features: (3816, 88), lables = (3816,)\n"
     ]
    }
   ],
   "source": [
    "def down_sampling(minority_ratio=1, majority_to_minority=1):\n",
    "    convert1_sample = data.loc[data['convert'] == 1] * minority_ratio\n",
    "    convert0_sample = data.loc[data['convert'] == 0].sample(majority_to_minority * len(convert1_sample))\n",
    "\n",
    "    # shuffle\n",
    "    sample = pd.concat([convert0_sample, convert1_sample]).sample(frac=1)\n",
    "    \n",
    "    features = sample.drop('convert', axis=1)\n",
    "    labels = sample.convert\n",
    "\n",
    "    print(\"features: {}, lables = {}\".format(features.shape, labels.shape))\n",
    "        \n",
    "    return (np.array(features), np.array(labels))\n",
    "\n",
    "\n",
    "(features, labels) = down_sampling()"
   ]
  },
  {
   "cell_type": "markdown",
   "metadata": {},
   "source": [
    "#### Logistic Regression"
   ]
  },
  {
   "cell_type": "code",
   "execution_count": 94,
   "metadata": {},
   "outputs": [],
   "source": [
    "from sklearn.linear_model import LogisticRegression"
   ]
  },
  {
   "cell_type": "markdown",
   "metadata": {},
   "source": [
    "Cross validation with mean accuracy as test metric"
   ]
  },
  {
   "cell_type": "code",
   "execution_count": 95,
   "metadata": {},
   "outputs": [],
   "source": [
    "from sklearn.model_selection import KFold\n",
    "from sklearn.metrics import auc, roc_curve\n",
    "\n",
    "# Returns mean accuracies and aucs\n",
    "def train_kfold(n_splits):\n",
    "    kf = KFold(n_splits=n_splits, shuffle=True)\n",
    "    \n",
    "    accuracies = np.array([])\n",
    "    ftrs = np.array([])\n",
    "    tprs = np.array([])\n",
    "    \n",
    "    for train_index, test_index in kf.split(features):\n",
    "    #     print(\"TRAIN:\", train_index, \"TEST:\", test_index)\n",
    "        feature_train, feature_test = features[train_index], features[test_index]\n",
    "        label_train, label_test = labels[train_index], labels[test_index]\n",
    "\n",
    "        regression = LogisticRegression(penalty='l2')\n",
    "        model = regression.fit(feature_train, label_train)\n",
    "        predicted_scores = model.predict_proba(feature_test)[:,1]\n",
    "        \n",
    "        accuracies = np.append(accuracies, model.score(feature_test, label_test))\n",
    "        ftr, tpr, thresholds = roc_curve(label_test, predicted_scores)\n",
    "        ftrs = np.append(ftrs, ftr)\n",
    "        tprs = np.append(tprs, tpr)\n",
    "    \n",
    "    return accuracies, ftrs, tprs"
   ]
  },
  {
   "cell_type": "markdown",
   "metadata": {},
   "source": [
    "We use ROC_AUC (Receiver operating characteristic area under curve) as the main metric rather than accuracy because the label distribution is highly unbalanced. But since we are using under-sampled data here, we should look at accuracy as well."
   ]
  },
  {
   "cell_type": "markdown",
   "metadata": {},
   "source": [
    "First try different number of folds, and see if there is any difference in AUC"
   ]
  },
  {
   "cell_type": "code",
   "execution_count": 80,
   "metadata": {},
   "outputs": [
    {
     "name": "stdout",
     "output_type": "stream",
     "text": [
      "splits: 2, accuracy: 0.624475890985325, auc: 0.6753896142936907\n",
      "splits: 3, accuracy: 0.6181865828092243, auc: 0.6697788386153622\n",
      "splits: 4, accuracy: 0.625, auc: 0.6734510678303969\n",
      "splits: 5, accuracy: 0.6263087289769647, auc: 0.6790714786805572\n"
     ]
    }
   ],
   "source": [
    "for i, n_splits in enumerate(range(2, 6)):\n",
    "    accuracies, ftrs, tprs = train_kfold(n_splits)\n",
    "    area_under_cruve = auc(ftrs, tprs, True)\n",
    "    print(\"splits: {}, accuracy: {}, auc: {}\".format(n_splits, np.mean(accuracies), area_under_cruve))\n"
   ]
  },
  {
   "cell_type": "markdown",
   "metadata": {},
   "source": [
    "There is very little difference with number of folds. This makes sense because we are under-sampling,\n",
    "and taining data is small even if splits = 2. Go ahead with 2 splits and plot the ROC curve, where AUC is around 67.5%"
   ]
  },
  {
   "cell_type": "code",
   "execution_count": 82,
   "metadata": {},
   "outputs": [
    {
     "data": {
      "image/png": "[encoded data removed]",
      "text/plain": [
       "<Figure size 432x288 with 1 Axes>"
      ]
     },
     "metadata": {},
     "output_type": "display_data"
    }
   ],
   "source": [
    "accuracies, ftrs, tprs = train_kfold(2)\n",
    "plt.plot(ftrs, tprs, linestyle='--')\n",
    "plt.xlabel('False Positive Rate')\n",
    "plt.ylabel('True Positive Rate')\n",
    "plt.show()\n",
    "    "
   ]
  },
  {
   "cell_type": "markdown",
   "metadata": {},
   "source": [
    "However, we don't have to down sample at a 1:1 ratio of labels (convert = 0 vs. convert = 1).\n",
    "Try increasing the ratio to increase the sample size expotentially.\n",
    "Accuracy improves up to 99% as the 0/1 ratio approaches the true distribution, whic AUC is stagnent.\n",
    "This is due to most of the accuracy gains in fewer false positives\n"
   ]
  },
  {
   "cell_type": "code",
   "execution_count": 93,
   "metadata": {},
   "outputs": [
    {
     "name": "stdout",
     "output_type": "stream",
     "text": [
      "features: (9540, 88), lables = (9540,)\n",
      "0:1 ratio: 4, accuracy: 0.8015723270440251, fpr: 0.38719636706291105, tpr: 0.5780020971001182, auc: 0.6857856580919355\n",
      "features: (17172, 88), lables = (17172,)\n",
      "0:1 ratio: 8, accuracy: 0.888248311204286, fpr: 0.3991685516122108, tpr: 0.5910334422597876, auc: 0.6914232429846777\n",
      "features: (32436, 88), lables = (32436,)\n",
      "0:1 ratio: 16, accuracy: 0.9410223208780368, fpr: 0.444084997773489, tpr: 0.6300485798975402, auc: 0.6883979219667756\n",
      "features: (62964, 88), lables = (62964,)\n",
      "0:1 ratio: 32, accuracy: 0.9696810876056159, fpr: 0.5030386088980643, tpr: 0.6872414962277547, auc: 0.691435374623664\n",
      "features: (124020, 88), lables = (124020,)\n",
      "0:1 ratio: 64, accuracy: 0.984558942106112, fpr: 0.5467918656018328, tpr: 0.7305854747395728, auc: 0.6911756581095445\n",
      "features: (246132, 88), lables = (246132,)\n",
      "0:1 ratio: 128, accuracy: 0.9922236848520306, fpr: 0.5765305283380178, tpr: 0.7552978330754501, auc: 0.685268416969126\n"
     ]
    }
   ],
   "source": [
    "for majority_to_minority in [4, 8, 16, 32, 64, 128]:\n",
    "    (features, labels) = down_sampling(majority_to_minority=majority_to_minority)\n",
    "    accuracies, fprs, tprs = train_kfold(2)\n",
    "    area_under_cruve = auc(fprs, tprs, True)\n",
    "    print(\"0:1 ratio: {}, accuracy: {}, fpr: {}, tpr: {}, auc: {}\".format(\n",
    "        majority_to_minority, np.mean(accuracies), np.mean(fprs), np.mean(tprs), area_under_cruve))"
   ]
  },
  {
   "cell_type": "code",
   "execution_count": 119,
   "metadata": {},
   "outputs": [],
   "source": [
    "# Without KFold\n",
    "from sklearn.model_selection import train_test_split\n",
    "def train(features, labels, test_size=0.33, penalty='l2'):\n",
    "    feature_train, feature_test, label_train, label_test = train_test_split(features, labels, test_size=test_size)\n",
    "    \n",
    "    regression = LogisticRegression(penalty=penalty)\n",
    "    model = regression.fit(feature_train, label_train)\n",
    "    predicted_scores = model.predict_proba(feature_test)[:,1]\n",
    "    predicted = model.predict(feature_test)\n",
    "    accuracy = model.score(feature_test, label_test)\n",
    "    fpr, tpr, thresholds = roc_curve(label_test, predicted_scores)\n",
    "    return accuracy, fpr, tpr, label_test, predicted\n"
   ]
  },
  {
   "cell_type": "code",
   "execution_count": 117,
   "metadata": {},
   "outputs": [
    {
     "name": "stdout",
     "output_type": "stream",
     "text": [
      "features: (9540, 88), lables = (9540,)\n",
      "majority_to_minority: 4, accuracy: 0.803, fpr: 0.365, tpr: 0.571, auc: 0.697\n",
      "0.28869805443662866\n",
      "[[2486   41]\n",
      " [ 579   43]]\n",
      "features: (32436, 88), lables = (32436,)\n",
      "majority_to_minority: 16, accuracy: 0.939, fpr: 0.450, tpr: 0.631, auc: 0.687\n",
      "0.28869805443662866\n",
      "[[10051     3]\n",
      " [  649     1]]\n",
      "features: (124020, 88), lables = (124020,)\n",
      "majority_to_minority: 64, accuracy: 0.985, fpr: 0.551, tpr: 0.729, auc: 0.690\n",
      "0.28869805443662866\n",
      "[[40328     0]\n",
      " [  599     0]]\n"
     ]
    },
    {
     "data": {
      "image/png": "[encoded data removed]",
      "text/plain": [
       "<Figure size 432x288 with 1 Axes>"
      ]
     },
     "metadata": {},
     "output_type": "display_data"
    }
   ],
   "source": [
    "# 4, 16, 64\n",
    "from sklearn.metrics import confusion_matrix\n",
    "\n",
    "for majority_to_minority in [4, 16, 64]:\n",
    "    (features, labels) = down_sampling(majority_to_minority=majority_to_minority)\n",
    "    accuracy, fpr, tpr, label_test, predicted = train(features, labels)\n",
    "    area_under_curve = auc(fpr, tpr)\n",
    "    print(\"majority_to_minority: %d, accuracy: %0.3f, fpr: %0.3f, tpr: %0.3f, auc: %0.3f\" % (\n",
    "        majority_to_minority, accuracy, np.mean(fpr), np.mean(tpr), area_under_curve))\n",
    "    print(predicted_scores[0])\n",
    "    \n",
    "    # true negatives is C_{0,0}, false negatives is C_{1,0},\n",
    "    # true positives is C_{1,1} and false positives is C_{0,1}.\n",
    "    print(confusion_matrix(label_test, predicted))\n",
    "    \n",
    "    plt.plot(fpr, tpr, label=\"majority_to_minority: %d\" % majority_to_minority, linestyle='--')\n",
    "    plt.legend(loc='lower right')\n",
    "\n",
    "    \n",
    "plt.xlabel('False Positive Rate')\n",
    "plt.ylabel('True Positive Rate')\n",
    "plt.show()\n"
   ]
  },
  {
   "cell_type": "markdown",
   "metadata": {},
   "source": [
    "Try L1 penalty\n",
    "No meaningful improvement on AUC: + False negative, - True negative"
   ]
  },
  {
   "cell_type": "code",
   "execution_count": 121,
   "metadata": {},
   "outputs": [
    {
     "name": "stdout",
     "output_type": "stream",
     "text": [
      "features: (9540, 88), lables = (9540,)\n",
      "accuracy: 0.799, fpr: 0.376, tpr: 0.565, auc: 0.683\n",
      "0.28869805443662866\n",
      "[[2455   71]\n",
      " [ 562   61]]\n"
     ]
    },
    {
     "data": {
      "image/png": "[encoded data removed]",
      "text/plain": [
       "<Figure size 432x288 with 1 Axes>"
      ]
     },
     "metadata": {},
     "output_type": "display_data"
    }
   ],
   "source": [
    "(features, labels) = down_sampling(majority_to_minority=4)\n",
    "accuracy, fpr, tpr, label_test, predicted = train(features, labels, penalty='l1')\n",
    "area_under_curve = auc(fpr, tpr)\n",
    "print(\"accuracy: %0.3f, fpr: %0.3f, tpr: %0.3f, auc: %0.3f\" % (\n",
    "    accuracy, np.mean(fpr), np.mean(tpr), area_under_curve))\n",
    "print(predicted_scores[0])\n",
    "\n",
    "# true negatives is C_{0,0}, false negatives is C_{1,0},\n",
    "# true positives is C_{1,1} and false positives is C_{0,1}.\n",
    "print(confusion_matrix(label_test, predicted))\n",
    "\n",
    "plt.plot(fpr, tpr, label=\"majority_to_minority: %d\" % majority_to_minority, linestyle='--')\n",
    "plt.legend(loc='lower right')\n",
    "\n",
    "    \n",
    "plt.xlabel('False Positive Rate')\n",
    "plt.ylabel('True Positive Rate')\n",
    "plt.show()"
   ]
  },
  {
   "cell_type": "code",
   "execution_count": null,
   "metadata": {},
   "outputs": [],
   "source": []
  }
 ],
 "metadata": {
  "kernelspec": {
   "display_name": "Python 3",
   "language": "python",
   "name": "python3"
  },
  "language_info": {
   "codemirror_mode": {
    "name": "ipython",
    "version": 3
   },
   "file_extension": ".py",
   "mimetype": "text/x-python",
   "name": "python",
   "nbconvert_exporter": "python",
   "pygments_lexer": "ipython3",
   "version": "3.6.3"
  }
 },
 "nbformat": 4,
 "nbformat_minor": 2
}
